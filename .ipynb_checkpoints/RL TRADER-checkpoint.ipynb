{
 "cells": [
  {
   "cell_type": "code",
   "execution_count": 37,
   "metadata": {},
   "outputs": [],
   "source": [
    "import numpy as np\n",
    "np.random.seed(1337)\n",
    "import pandas as pd\n",
    "from matplotlib import pyplot as plt\n",
    "%matplotlib inline\n",
    "\n",
    "\n",
    "from keras.models import Sequential\n",
    "from keras.layers import Dense\n",
    "from keras.optimizers import Adam\n",
    "from collections import deque\n",
    "import random\n",
    "import urllib, json\n",
    "import re\n",
    "from datetime import datetime\n",
    "import requests\n"
   ]
  },
  {
   "cell_type": "code",
   "execution_count": 57,
   "metadata": {
    "collapsed": true
   },
   "outputs": [],
   "source": [
    "memory = deque(maxlen=2000)\n",
    "gamma = 0.95  \n",
    "epsilon = 0.1  # exploration rate\n",
    "epsilon_min = 0.01\n",
    "epsilon_decay = 0.99\n",
    "learning_rate = 0.001\n",
    "batch_size = 32\n",
    "memory = []\n",
    "action_hist = []\n",
    "class Account:\n",
    "    cash = 100000\n",
    "    amount_held = 0\n",
    "    def calc_value(self,current_price):\n",
    "        return self.amount_held * current_price\n",
    "account = Account()"
   ]
  },
  {
   "cell_type": "code",
   "execution_count": 39,
   "metadata": {
    "collapsed": true
   },
   "outputs": [],
   "source": [
    "def build_network(input_sz):\n",
    "    model = Sequential()\n",
    "    model.add(Dense(125,input_dim=input_sz, activation='relu'))\n",
    "    model.add(Dense(50,activation='relu'))\n",
    "    model.add(Dense(2, activation='linear'))\n",
    "    try:\n",
    "        model.load_weights(\"rltrader.h5\")\n",
    "        print \"LOADEd weights\"\n",
    "    except:\n",
    "        pass\n",
    "    model.compile(loss='mse',optimizer=Adam(lr=learning_rate)) \n",
    "    return model"
   ]
  },
  {
   "cell_type": "code",
   "execution_count": null,
   "metadata": {
    "collapsed": true
   },
   "outputs": [],
   "source": []
  },
  {
   "cell_type": "code",
   "execution_count": 40,
   "metadata": {
    "collapsed": true
   },
   "outputs": [],
   "source": [
    "def get_data(symbol):\n",
    "    q = deque(maxlen=3)\n",
    "    url = \"https://www.alphavantage.co/query?function=TIME_SERIES_DAILY&outputsize=full&symbol=\"+symbol+\"&apikey=TOGGSCK5JLEEJTGL\"\n",
    "    url_rsi = \"https://www.alphavantage.co/query?function=RSI&symbol=\"+symbol+\"&interval=daily&time_period=50&series_type=close&apikey=TOGGSCK5JLEEJTGL\"\n",
    "    url_sma = \"https://www.alphavantage.co/query?function=SMA&symbol=\"+symbol+\"&interval=daily&time_period=50&series_type=close&apikey=TOGGSCK5JLEEJTGL\"\n",
    "    url_cci = \"https://www.alphavantage.co/query?function=CCI&symbol=\"+symbol+\"&interval=daily&time_period=50&series_type=close&apikey=TOGGSCK5JLEEJTGL\"\n",
    "    url_macd = \"https://www.alphavantage.co/query?function=MACD&symbol=\"+symbol+\"&interval=daily&series_type=open&apikey=TOGGSCK5JLEEJTGL\"\n",
    "    response_prices = requests.get(url)\n",
    "    response_rsi = requests.get(url_rsi)\n",
    "    response_sma = requests.get(url_sma)\n",
    "    response_cci = requests.get(url_cci)\n",
    "    response_macd = requests.get(url_macd)\n",
    "    \n",
    "    data = response_prices.json()\n",
    "    data_rsi = response_rsi.json()\n",
    "    data_sma = response_sma.json()\n",
    "    data_cci = response_cci.json()\n",
    "    data_macd =  response_macd.json()\n",
    "    \n",
    "    \n",
    "    data = data[\"Time Series (Daily)\"]\n",
    "#     print(data_rsi)\n",
    "    data_rsi = data_rsi[\"Technical Analysis: RSI\"]\n",
    "    data_sma = data_sma[\"Technical Analysis: SMA\"]\n",
    "    data_cci = data_cci[\"Technical Analysis: CCI\"]\n",
    "    data_macd = data_macd[\"Technical Analysis: MACD\"]\n",
    "    \n",
    "    ds = {}\n",
    "    ds[\"date\"] = []\n",
    "    ds[\"close\"] = []\n",
    "    ds[\"trend\"] = []\n",
    "#     ds[\"open\"] = []\n",
    "#     ds[\"volume\"] = []\n",
    "#     ds[\"high\"] = []\n",
    "#     ds[\"low\"] = []\n",
    "    ds[\"rsi\"] = []\n",
    "    ds[\"sma\"] = []\n",
    "    ds[\"cci\"] = []\n",
    "    ds[\"macd\"] = []\n",
    "    \n",
    "#     i = 0\n",
    "    q.append(1)\n",
    "    for time_point in data:\n",
    "        try:\n",
    "            ds[\"date\"] += [time_point]\n",
    "            ds[\"close\"] += [float(data[time_point][\"4. close\"])]\n",
    "            ds[\"trend\"] += [(float(data[time_point][\"4. close\"])-(sum(list(q))/len(list(q))))/(sum(list(q))/len(list(q)))]\n",
    "            last_close = float(data[time_point][\"4. close\"])\n",
    "            if last_close <= 0:\n",
    "                q.append(1)\n",
    "            else:\n",
    "                q.append(last_close)\n",
    "#             ds[\"open\"] += [float(data[time_point][\"1. open\"])]\n",
    "#             ds[\"volume\"] += [float(data[time_point][\"5. volume\"])]\n",
    "#             ds[\"high\"] += [float(data[time_point][\"2. high\"])]\n",
    "#             ds[\"low\"] += [float(data[time_point][ \"3. low\"])]\n",
    "        except KeyError as e:\n",
    "            continue\n",
    "        try:\n",
    "            ds[\"macd\"] += [float(data_macd[time_point][\"MACD\"])]\n",
    "        except KeyError as e:\n",
    "            ds[\"macd\"] += [sum(ds[\"macd\"])/len(ds[\"macd\"])]\n",
    "        try:\n",
    "            ds[\"rsi\"] += [float(data_rsi[time_point][\"RSI\"])]\n",
    "        except KeyError as e:\n",
    "            ds[\"rsi\"] += [sum(ds[\"rsi\"])/len(ds[\"rsi\"])]\n",
    "        try:\n",
    "            ds[\"sma\"] += [float(data_sma[time_point][\"SMA\"])]\n",
    "        except KeyError as e:\n",
    "            ds[\"sma\"] += [sum(ds[\"sma\"])/len(ds[\"sma\"])]\n",
    "        try:\n",
    "            ds[\"cci\"] += [float(data_cci[time_point][\"CCI\"])]\n",
    "        except KeyError as e:\n",
    "            ds[\"cci\"] += [sum(ds[\"cci\"])/len(ds[\"cci\"])]\n",
    "    \n",
    "    df=pd.DataFrame(ds)\n",
    "    df = df.sort_values(by='date')\n",
    "    df = df.reset_index(drop=True)\n",
    "    return df\n",
    "        \n"
   ]
  },
  {
   "cell_type": "code",
   "execution_count": null,
   "metadata": {
    "collapsed": true
   },
   "outputs": [],
   "source": []
  },
  {
   "cell_type": "code",
   "execution_count": 41,
   "metadata": {
    "collapsed": true
   },
   "outputs": [],
   "source": [
    "def remember(s,a,r,sp):\n",
    "    memory.append((s,a,r,sp))"
   ]
  },
  {
   "cell_type": "code",
   "execution_count": 42,
   "metadata": {
    "collapsed": true
   },
   "outputs": [],
   "source": [
    "def update(memory):\n",
    "#     Take random sample from memory\n",
    "    batch = random.sample(memory, batch_size) \n",
    "#     Train network on batch\n",
    "    for s, a, r, sp in batch:\n",
    "#       if state is final there is no future rewards\n",
    "        target = r\n",
    "#       discounted future rewards\n",
    "    \n",
    "        target = r + gamma * \\\n",
    "           np.amax(model.predict(sp)[0])\n",
    "                \n",
    "#       Get pred then replace action with our target\n",
    "        target_f = model.predict(s)\n",
    "        target_f[0][a] = target\n",
    "        model.fit(s, target_f, epochs=1, verbose=0)"
   ]
  },
  {
   "cell_type": "code",
   "execution_count": 84,
   "metadata": {
    "collapsed": true
   },
   "outputs": [],
   "source": [
    "def get_act(obs):\n",
    "    \n",
    "#     if np.random.rand() <= epsilon:\n",
    "# #         print \"random\"\n",
    "# #         # The agent acts randomly\n",
    "# #         epsilon = epsilon*epsilon_decay\n",
    "#         act = int(random.uniform(0, 2))\n",
    "#         return act\n",
    "#     print \"optimal\"\n",
    "    # Predict the reward value based on the given state\n",
    "    act_values = model.predict(obs)\n",
    "\n",
    "    # Pick the action based on the predicted reward\n",
    "    return np.argmax(act_values[0])"
   ]
  },
  {
   "cell_type": "code",
   "execution_count": 44,
   "metadata": {},
   "outputs": [
    {
     "data": {
      "text/plain": [
       "0"
      ]
     },
     "execution_count": 44,
     "metadata": {},
     "output_type": "execute_result"
    }
   ],
   "source": [
    "int(random.uniform(0, 2))"
   ]
  },
  {
   "cell_type": "code",
   "execution_count": 95,
   "metadata": {
    "collapsed": true
   },
   "outputs": [],
   "source": [
    "\n",
    "def act(act,day):\n",
    "    current_val = account.calc_value(day[1][\"close\"])\n",
    "    i = day[0]\n",
    "    future = df.close.iloc[i+1:i+3].mean()\n",
    "    if act == 1:\n",
    "        buy[\"buy\"] += [day[1][\"close\"]]\n",
    "        buy[\"date\"] += [df_d.date.iloc[day[0]]]\n",
    "        if (account.cash - (day[1][\"close\"]*5)) >= 0:\n",
    "            account.amount_held =  account.amount_held + 5\n",
    "            account.cash = account.cash - (5*day[1][\"close\"])\n",
    "        if ((future - day[1][\"close\"])/day[1][\"close\"]) >= 0:\n",
    "            return 1\n",
    "        else:\n",
    "            return -1\n",
    "#             if (account.calc_value(future) - current_val) > 0:\n",
    "#                 return 1\n",
    "#             else:\n",
    "#                 return -1\n",
    "    #         Buy some shares reward is if we make money in a week\n",
    "    else:\n",
    "        \n",
    "        sell[\"sell\"] += [day[1][\"close\"]]\n",
    "        sell[\"date\"] += [df_d.date.iloc[day[0]]]\n",
    "        to_sell =int((random.random()*account.amount_held))\n",
    "        if account.amount_held > 0:\n",
    "            account.cash = account.cash + (to_sell*day[1][\"close\"])\n",
    "            account.amount_held = account.amount_held -to_sell\n",
    "        if -((future - day[1][\"close\"])/day[1][\"close\"]) > 0:\n",
    "#             print \"Sell\" , (future - day[1][\"close\"])/day[1][\"close\"]\n",
    "            return 1\n",
    "        else:\n",
    "            return -1\n",
    "#         if (account.calc_value(future) - current_val) < 0:\n",
    "#             return 1\n",
    "#         else:\n",
    "#             return -1\n",
    "    \n",
    "    return -0.05\n",
    "#         Sell some shares reward is if we avoid losing money in a week"
   ]
  },
  {
   "cell_type": "code",
   "execution_count": 46,
   "metadata": {
    "collapsed": true
   },
   "outputs": [],
   "source": [
    "\n",
    "#     print d[1][\"date\"]\n"
   ]
  },
  {
   "cell_type": "code",
   "execution_count": 47,
   "metadata": {
    "scrolled": true
   },
   "outputs": [
    {
     "data": {
      "text/plain": [
       "[0]"
      ]
     },
     "execution_count": 47,
     "metadata": {},
     "output_type": "execute_result"
    }
   ],
   "source": [
    "range(0,1)"
   ]
  },
  {
   "cell_type": "code",
   "execution_count": null,
   "metadata": {
    "scrolled": true
   },
   "outputs": [],
   "source": [
    "# model = build_network(len(df.columns))\n",
    "# prv_obs = None\n",
    "feats = [\"trend\",\"rsi\",\"cci\",\"macd\"]\n",
    "buy = {}\n",
    "buy[\"buy\"] = []\n",
    "buy[\"date\"] = []\n",
    "sell = {}\n",
    "sell[\"sell\"] = []\n",
    "sell[\"date\"] = []\n",
    "worth = {}\n",
    "worth[\"worth\"]=[]\n",
    "gl = []\n",
    "epochs = 5\n",
    "df_d = None\n",
    "codes = [\"TSLA\",\"MSFT\",\"ASX:ANZ\",\"NVDA\"]\n",
    "for epoch in range(0,epochs):\n",
    "    epsilon = epsilon*((epochs-i)/epochs)\n",
    "    buy = {}\n",
    "    buy[\"buy\"] = []\n",
    "    buy[\"date\"] = []\n",
    "    sell = {}\n",
    "    sell[\"sell\"] = []\n",
    "    sell[\"date\"] = []\n",
    "    worth = {}\n",
    "    worth[\"worth\"]=[]\n",
    "    gl = []\n",
    "    i = 0\n",
    "    memory = deque(maxlen=2000)\n",
    "    account = Account()\n",
    "    lets_trade = random.choice(codes)\n",
    "#     lets_trade = \"TSLA\"\n",
    "    print lets_trade\n",
    "    df = get_data(lets_trade)\n",
    "    df_d = df[[\"date\",\"close\"]]\n",
    "    del df[\"date\"]\n",
    "    model = build_network(len(df[feats].columns))\n",
    "    prv_obs = None\n",
    "\n",
    "    for day in df.iterrows():\n",
    "        i = 1 + i\n",
    "    #     print i\n",
    "        if i == len(df) - 11:\n",
    "            model.save_weights(\"rltrader.h5\")\n",
    "            print(\"Episode finished after {} timesteps\".format(i+1))\n",
    "            break\n",
    "        obs = day[1]\n",
    "        obs_values = np.reshape(obs[feats].values,[1,len(df[feats].columns)])\n",
    "        action = get_act(obs_values )\n",
    "        reward = act(action,day)\n",
    "        if action == 1:\n",
    "            action_hist += [\"buy\"] \n",
    "        else:\n",
    "            action_hist += [\"sell\"]\n",
    "        if i % 100 == 0:\n",
    "            print reward\n",
    "            if action == 1:\n",
    "                print \"Buying\" \n",
    "            else:\n",
    "                print \"Selling\"\n",
    "            print \"day\" , i\n",
    "            print \"cash\",account.cash\n",
    "            print \"shares held\",account.amount_held\n",
    "            print \"net worth\",account.calc_value(day[1][\"close\"]) + account.cash\n",
    "        worth[\"worth\"] += [account.calc_value(day[1][\"close\"]) + account.cash]\n",
    "    #     print(action)\n",
    "        reward = act(action,day)\n",
    "    #     print reward\n",
    "        gl += [(account.calc_value(day[1][\"close\"]) + account.cash) - 100000]\n",
    "        if prv_obs is not None and reward is not None:\n",
    "            remember(prv_obs,action,reward,obs_values)\n",
    "        prv_obs = obs_values  \n",
    "    #     if done:\n",
    "    #         model.save_weights(\"model.h5\")\n",
    "    #         print(\"Episode finished after {} timesteps\".format(t+1))\n",
    "    #         break\n",
    "        if len(memory) >= batch_size:\n",
    "            update(memory)\n",
    "    print ((sum(gl)/len(gl))/100000)*100"
   ]
  },
  {
   "cell_type": "code",
   "execution_count": 97,
   "metadata": {},
   "outputs": [
    {
     "name": "stdout",
     "output_type": "stream",
     "text": [
      "477.111278975\n",
      "133.605115\n"
     ]
    }
   ],
   "source": [
    "print ((sum(gl)/len(gl))/100000)*100\n",
    "# df_d\n",
    "print (133605.115/100000)*100\n",
    "# print action_hist"
   ]
  },
  {
   "cell_type": "code",
   "execution_count": 98,
   "metadata": {
    "collapsed": true
   },
   "outputs": [],
   "source": [
    "df_buys = pd.DataFrame(buy)\n",
    "df_sells = pd.DataFrame(sell)\n",
    "df_worth = pd.DataFrame(worth)"
   ]
  },
  {
   "cell_type": "code",
   "execution_count": 99,
   "metadata": {},
   "outputs": [
    {
     "data": {
      "text/plain": [
       "<matplotlib.axes._subplots.AxesSubplot at 0x7fea9e7cd8d0>"
      ]
     },
     "execution_count": 99,
     "metadata": {},
     "output_type": "execute_result"
    },
    {
     "data": {
      "image/png": "[encoded data removed]",
      "text/plain": [
       "<matplotlib.figure.Figure at 0x7fea9f015b90>"
      ]
     },
     "metadata": {},
     "output_type": "display_data"
    },
    {
     "data": {
      "image/png": "[encoded data removed]",
      "text/plain": [
       "<matplotlib.figure.Figure at 0x7fea9f0159d0>"
      ]
     },
     "metadata": {},
     "output_type": "display_data"
    }
   ],
   "source": [
    "df_d.plot()\n",
    "df_worth.plot()\n"
   ]
  },
  {
   "cell_type": "code",
   "execution_count": 92,
   "metadata": {},
   "outputs": [
    {
     "data": {
      "text/plain": [
       "<matplotlib.axes._subplots.AxesSubplot at 0x7fea9f29b610>"
      ]
     },
     "execution_count": 92,
     "metadata": {},
     "output_type": "execute_result"
    },
    {
     "data": {
      "image/png": "[encoded data removed]",
      "text/plain": [
       "<matplotlib.figure.Figure at 0x7fea9e5d3350>"
      ]
     },
     "metadata": {},
     "output_type": "display_data"
    }
   ],
   "source": [
    "df_buys.plot(style=\".\")"
   ]
  },
  {
   "cell_type": "code",
   "execution_count": 94,
   "metadata": {},
   "outputs": [
    {
     "data": {
      "text/plain": [
       "<matplotlib.axes._subplots.AxesSubplot at 0x7fea9ef2a210>"
      ]
     },
     "execution_count": 94,
     "metadata": {},
     "output_type": "execute_result"
    },
    {
     "data": {
      "image/png": "[encoded data removed]",
      "text/plain": [
       "<matplotlib.figure.Figure at 0x7fea9f06e6d0>"
      ]
     },
     "metadata": {},
     "output_type": "display_data"
    }
   ],
   "source": [
    "# df_d.plot()\n",
    "df_sells.plot(style=\".\")"
   ]
  },
  {
   "cell_type": "code",
   "execution_count": null,
   "metadata": {
    "scrolled": true
   },
   "outputs": [],
   "source": [
    "df_d.date = pd.to_datetime(df_d.date,format='%Y-%m-%d')\n",
    "df_d = df_d.set_index(\"date\")\n",
    "df_buys.date = pd.to_datetime(df_buys.date,format='%Y-%m-%d')\n",
    "df_buys = df_buys.set_index(\"date\")\n",
    "df_sells.date = pd.to_datetime(df_sells.date,format='%Y-%m-%d')\n",
    "df_sells = df_sells.set_index(\"date\")\n",
    "ax = df_d.plot()\n",
    "\n",
    "ax = df_d.plot()\n",
    "ax = df_buys.plot(ax=ax)\n",
    "df_sells.plot(ax=ax)\n",
    "# # df_sells.groupby(df_sells[\"date\"])\n",
    "plt.show()"
   ]
  },
  {
   "cell_type": "code",
   "execution_count": null,
   "metadata": {},
   "outputs": [],
   "source": [
    "fig = plt.figure(figsize = (50,50))\n",
    "ax = fig.gca()\n",
    "df.rsi.plot(ax=ax)"
   ]
  },
  {
   "cell_type": "code",
   "execution_count": null,
   "metadata": {
    "scrolled": true
   },
   "outputs": [],
   "source": [
    "fig = plt.figure(figsize = (50,50))\n",
    "ax = fig.gca()\n",
    "ax = df_d.plot(ax=ax)\n",
    "ax = df_buys.plot(style=\".\",ax=ax)\n",
    "df_sells.plot(style=\".\",ax=ax)\n",
    "# # df_sells.groupby(df_sells[\"date\"])\n",
    "plt.show()"
   ]
  },
  {
   "cell_type": "code",
   "execution_count": null,
   "metadata": {},
   "outputs": [],
   "source": [
    "df_d"
   ]
  },
  {
   "cell_type": "code",
   "execution_count": null,
   "metadata": {
    "collapsed": true
   },
   "outputs": [],
   "source": [
    "\n"
   ]
  },
  {
   "cell_type": "code",
   "execution_count": null,
   "metadata": {
    "collapsed": true
   },
   "outputs": [],
   "source": []
  },
  {
   "cell_type": "code",
   "execution_count": null,
   "metadata": {},
   "outputs": [],
   "source": [
    "%%bash\n",
    "which python"
   ]
  }
 ],
 "metadata": {
  "kernelspec": {
   "display_name": "Python 2",
   "language": "python",
   "name": "python2"
  },
  "language_info": {
   "codemirror_mode": {
    "name": "ipython",
    "version": 2
   },
   "file_extension": ".py",
   "mimetype": "text/x-python",
   "name": "python",
   "nbconvert_exporter": "python",
   "pygments_lexer": "ipython2",
   "version": "2.7.13"
  }
 },
 "nbformat": 4,
 "nbformat_minor": 2
}
