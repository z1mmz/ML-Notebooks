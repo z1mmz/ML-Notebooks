{
  "nbformat": 4,
  "nbformat_minor": 0,
  "metadata": {
    "colab": {
      "provenance": [],
      "gpuType": "T4",
      "authorship_tag": "ABX9TyNf5CT/XU8+01mJ+dZ/Pj7z",
      "include_colab_link": true
    },
    "kernelspec": {
      "name": "python3",
      "display_name": "Python 3"
    },
    "language_info": {
      "name": "python"
    },
    "accelerator": "GPU"
  },
  "cells": [
    {
      "cell_type": "markdown",
      "metadata": {
        "id": "view-in-github",
        "colab_type": "text"
      },
      "source": [
        "<a href=\"https://colab.research.google.com/github/z1mmz/ML-Notebooks/blob/master/Dolly_doc_qa.ipynb\" target=\"_parent\"><img src=\"https://colab.research.google.com/assets/colab-badge.svg\" alt=\"Open In Colab\"/></a>"
      ]
    },
    {
      "cell_type": "code",
      "execution_count": null,
      "metadata": {
        "id": "EpLqLSqfJvMu"
      },
      "outputs": [],
      "source": [
        "%pip install \"accelerate>=0.16.0,<1\" \"transformers[torch]>=4.28.1,<5\" \"torch>=1.13.1,<2\" >/dev/null\n",
        "%pip install chromadb >/dev/null\n",
        "%pip install sentence_transformers >/dev/null\n",
        "!pip install langchain >/dev/null"
      ]
    },
    {
      "cell_type": "code",
      "source": [
        "!pip install unstructured >/dev/null\n",
        "!pip install pypdf >/dev/null"
      ],
      "metadata": {
        "id": "LO_-MB16ZhMj"
      },
      "execution_count": 34,
      "outputs": []
    },
    {
      "cell_type": "code",
      "source": [
        "import locale\n",
        "locale.getpreferredencoding = lambda: \"UTF-8\""
      ],
      "metadata": {
        "id": "P6sS6Uo_Q6Gn"
      },
      "execution_count": 3,
      "outputs": []
    },
    {
      "cell_type": "code",
      "source": [
        "!pip install einops"
      ],
      "metadata": {
        "colab": {
          "base_uri": "https://localhost:8080/"
        },
        "id": "rn0msdOtuNQA",
        "outputId": "d12700ec-fa49-48fc-e9b2-c16367c2ddae"
      },
      "execution_count": 4,
      "outputs": [
        {
          "output_type": "stream",
          "name": "stdout",
          "text": [
            "Requirement already satisfied: einops in /usr/local/lib/python3.10/dist-packages (0.6.1)\n"
          ]
        }
      ]
    },
    {
      "cell_type": "code",
      "source": [
        "\n",
        "from langchain.llms import HuggingFacePipeline\n",
        "\n",
        "import torch\n",
        "from transformers import pipeline\n",
        "\n",
        "pipe = pipeline(model=\"databricks/dolly-v2-3b\", torch_dtype=torch.bfloat16,\n",
        "                         trust_remote_code=True, device_map=\"auto\", return_full_text=True)\n",
        "\n",
        "llm = HuggingFacePipeline(pipeline=pipe)"
      ],
      "metadata": {
        "id": "x3sN2vR8J56J"
      },
      "execution_count": 5,
      "outputs": []
    },
    {
      "cell_type": "code",
      "source": [
        "llm"
      ],
      "metadata": {
        "colab": {
          "base_uri": "https://localhost:8080/"
        },
        "id": "Ohe6LSa4wO_l",
        "outputId": "ed76271f-a037-4958-e7cd-14afd3d62b69"
      },
      "execution_count": 6,
      "outputs": [
        {
          "output_type": "execute_result",
          "data": {
            "text/plain": [
              "HuggingFacePipeline(cache=None, verbose=False, callbacks=None, callback_manager=None, tags=None, metadata=None, pipeline=<transformers_modules.databricks.dolly-v2-3b.f6c9be08f16fe4d3a719bee0a4a7c7415b5c65df.instruct_pipeline.InstructionTextGenerationPipeline object at 0x789755630c10>, model_id='gpt2', model_kwargs=None, pipeline_kwargs=None)"
            ]
          },
          "metadata": {},
          "execution_count": 6
        }
      ]
    },
    {
      "cell_type": "code",
      "source": [
        "from langchain.document_loaders import OnlinePDFLoader\n",
        "from langchain.document_loaders import BSHTMLLoader\n",
        "from langchain.document_loaders import WebBaseLoader\n",
        "\n",
        "loaders =[]\n",
        "documents = []\n",
        "loaders +=[ OnlinePDFLoader(\"https://parlinfo.aph.gov.au/parlInfo/download/chamber/hansardr/26709/toc_pdf/House%20of%20Representatives_2023_06_22.pdf;fileType=application%2Fpdf\")]\n",
        "\n",
        "\n",
        "for loader in loaders:\n",
        "    documents.extend(loader.load())"
      ],
      "metadata": {
        "id": "2tD0VGhyKHTl"
      },
      "execution_count": 15,
      "outputs": []
    },
    {
      "cell_type": "code",
      "source": [
        "from langchain.chains import RetrievalQA\n",
        "from langchain.indexes import VectorstoreIndexCreator\n",
        "from langchain.text_splitter import CharacterTextSplitter\n",
        "from langchain.embeddings import HuggingFaceEmbeddings\n",
        "from langchain.vectorstores import Chroma\n",
        "\n",
        "# split the documents into chunks\n",
        "text_splitter = CharacterTextSplitter(chunk_size=1000, chunk_overlap=300)\n",
        "texts = text_splitter.split_documents(documents)\n",
        "# select which embeddings we want to use\n",
        "model_name = \"sentence-transformers/paraphrase-MiniLM-L6-v2\"\n",
        "model_kwargs = {'device': 'cuda'}\n",
        "encode_kwargs = {'normalize_embeddings': False}\n",
        "hf = HuggingFaceEmbeddings(\n",
        "    model_name=model_name,\n",
        "    model_kwargs=model_kwargs,\n",
        "    encode_kwargs=encode_kwargs\n",
        ")\n",
        "\n",
        "embeddings = hf\n",
        "# create the vectorestore to use as the index\n",
        "db = Chroma.from_documents(texts, embeddings)\n",
        "# expose this index in a retriever interface\n",
        "retriever = db.as_retriever(search_type=\"similarity\", search_kwargs={\"k\":2})\n",
        "\n",
        "\n",
        "# create a chain to answer questions\n",
        "qa = RetrievalQA.from_chain_type(\n",
        "    llm=llm, chain_type=\"refine\", retriever=retriever,return_source_documents=True, verbose=True)"
      ],
      "metadata": {
        "id": "1ZSHP9jULwOn"
      },
      "execution_count": null,
      "outputs": []
    },
    {
      "cell_type": "code",
      "source": [
        "qa({\"query\": \"Was anyone concered about AI?\"})\n",
        "\n",
        "\n"
      ],
      "metadata": {
        "id": "pbRqjZpMhObo",
        "colab": {
          "base_uri": "https://localhost:8080/"
        },
        "outputId": "02b6c8e9-4004-4d09-984e-55481b0da689"
      },
      "execution_count": 31,
      "outputs": [
        {
          "output_type": "stream",
          "name": "stdout",
          "text": [
            "\n",
            "\n",
            "\u001b[1m> Entering new RetrievalQA chain...\u001b[0m\n",
            "\n",
            "\u001b[1m> Finished chain.\u001b[0m\n"
          ]
        },
        {
          "output_type": "execute_result",
          "data": {
            "text/plain": [
              "{'query': 'Was anyone concered about AI?',\n",
              " 'result': '\\nyes',\n",
              " 'source_documents': [Document(page_content='The truth is I have worked in the private sector most of my life; however, I remember a time when I was auditing a public sector organisation and I was also the WA branch president of Professionals Australia, the union that represents engineers. The thing that stood out to me not only when I would do audits but also when spending time with my public sector engineering colleagues was the fundamental values base of those that work in the public sector versus those in the private sector. The thing that I observed was a sense of collegiality, not only wanting to make sure that there is an investment in the skills of the future of the Public Service but also this fundamental desire to contribute to public good.', metadata={'source': '/tmp/tmp1b957t7p/tmp.pdf'}),\n",
              "  Document(page_content='The truth is I have worked in the private sector most of my life; however, I remember a time when I was auditing a public sector organisation and I was also the WA branch president of Professionals Australia, the union that represents engineers. The thing that stood out to me not only when I would do audits but also when spending time with my public sector engineering colleagues was the fundamental values base of those that work in the public sector versus those in the private sector. The thing that I observed was a sense of collegiality, not only wanting to make sure that there is an investment in the skills of the future of the Public Service but also this fundamental desire to contribute to public good.', metadata={'source': '/tmp/tmp1b957t7p/tmp.pdf'})]}"
            ]
          },
          "metadata": {},
          "execution_count": 31
        }
      ]
    },
    {
      "cell_type": "code",
      "source": [
        "qa({\"query\": \"Who was concered about AI?\"})\n"
      ],
      "metadata": {
        "colab": {
          "base_uri": "https://localhost:8080/"
        },
        "id": "AzjPrG19S1M1",
        "outputId": "7dd3e788-f3a3-4867-816e-112ba6f0bbd5"
      },
      "execution_count": 32,
      "outputs": [
        {
          "output_type": "stream",
          "name": "stdout",
          "text": [
            "\n",
            "\n",
            "\u001b[1m> Entering new RetrievalQA chain...\u001b[0m\n",
            "\n",
            "\u001b[1m> Finished chain.\u001b[0m\n"
          ]
        },
        {
          "output_type": "execute_result",
          "data": {
            "text/plain": [
              "{'query': 'Who was concered about AI?',\n",
              " 'result': '\\nThe Australian Defense Science and Technology Group conducted several studies into using artificial intelligence for military purposes in the early twenty-first century.\\nThe studies included several possibilities for using artificial intelligence, including:\\nScavenging through available artificial intelligence data sources to locate potential targets for attack. Conducting automated pattern-matching analysis of radar imagery and other data to locate targets for other aircraft or weapons to attack. Guiding missiles and bombs using data from artificial intelligence sensors. Despite performing these studies, the Defense Science and Technology Group was unable to make substantial progress toward using artificial intelligence for military purposes.\\nDespite performing these studies, the Defense Science and Technology Group was unable to make substantial progress toward using artificial intelligence for military purposes.',\n",
              " 'source_documents': [Document(page_content=\"Hargrave encapsulated many characteristics of our distinctly Australian form of innovation. He was a man of foresight and imagination, working in comparative isolation with limited resources, yet was able to have his studies taken seriously in far-off lands even though there was very little interest at home. The impact of his distinctive contribution can be seen by those who follow his work, one of whom was Alexander Graham Bell, the American inventor of the telephone, who visited Australia just to meet Hargrave. Bell noted, 'Mr Lawrence Hargrave is better known in America than in his own country.' A sincere thank you to the members that dedicated their time and expertise to this amazing project, including Michael Adams, Bob Black, Richard Webb, Noel Roberts, Robert Deacon and Michael Hough. Thank you for the contribution to the dilution of the anonymity that has surrounded an incredible Australian for far too long. (Time expired)\\n\\nBaird, Corporal Cameron Stewart, VC, MG Evans, Mr Alan\", metadata={'source': '/tmp/tmp1b957t7p/tmp.pdf'}),\n",
              "  Document(page_content=\"Hargrave encapsulated many characteristics of our distinctly Australian form of innovation. He was a man of foresight and imagination, working in comparative isolation with limited resources, yet was able to have his studies taken seriously in far-off lands even though there was very little interest at home. The impact of his distinctive contribution can be seen by those who follow his work, one of whom was Alexander Graham Bell, the American inventor of the telephone, who visited Australia just to meet Hargrave. Bell noted, 'Mr Lawrence Hargrave is better known in America than in his own country.' A sincere thank you to the members that dedicated their time and expertise to this amazing project, including Michael Adams, Bob Black, Richard Webb, Noel Roberts, Robert Deacon and Michael Hough. Thank you for the contribution to the dilution of the anonymity that has surrounded an incredible Australian for far too long. (Time expired)\\n\\nBaird, Corporal Cameron Stewart, VC, MG Evans, Mr Alan\", metadata={'source': '/tmp/tmp1b957t7p/tmp.pdf'})]}"
            ]
          },
          "metadata": {},
          "execution_count": 32
        }
      ]
    }
  ]
}