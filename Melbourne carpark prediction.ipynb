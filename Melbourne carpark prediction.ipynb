{
  "cells": [
    {
      "cell_type": "markdown",
      "metadata": {
        "id": "view-in-github",
        "colab_type": "text"
      },
      "source": [
        "<a href=\"https://colab.research.google.com/github/z1mmz/ML-Notebooks/blob/master/Melbourne%20carpark%20prediction.ipynb\" target=\"_parent\"><img src=\"https://colab.research.google.com/assets/colab-badge.svg\" alt=\"Open In Colab\"/></a>"
      ]
    },
    {
      "cell_type": "code",
      "execution_count": 89,
      "metadata": {
        "id": "cHOWRzPFlSsm"
      },
      "outputs": [],
      "source": [
        "import pandas as pd\n",
        "import numpy as np\n",
        "import dateutil.parser as dparser"
      ]
    },
    {
      "cell_type": "code",
      "source": [
        "# from google.colab import drive\n",
        "# drive.mount('/content/drive/MyDrive/carpark prediction/')"
      ],
      "metadata": {
        "id": "OTIBD8MZX8oy"
      },
      "execution_count": 90,
      "outputs": []
    },
    {
      "cell_type": "code",
      "execution_count": 91,
      "metadata": {
        "id": "Ew4EynRQH3ia"
      },
      "outputs": [],
      "source": [
        "weather = pd.read_csv(\"/content/drive/MyDrive/carpark prediction/meshed-sensor-type-1.csv\")\n",
        "parking = pd.read_csv(\"/content/drive/MyDrive/carpark prediction/on-street-parking-bay-sensors.csv\")"
      ]
    },
    {
      "cell_type": "code",
      "execution_count": 92,
      "metadata": {
        "id": "xEHIM1LfILKk"
      },
      "outputs": [],
      "source": [
        "\n",
        "parking[['lat','lon']] =parking[\"Location\"].str.split(',',expand=True)\n",
        "parking[\"Hour\"] = parking[\"Status_Timestamp\"].apply(lambda x : dparser.parse(x,fuzzy=True).time().hour)\n",
        "parking[\"Weekday\"] = parking[\"Status_Timestamp\"].apply(lambda x : dparser.parse(x,fuzzy=True).date().weekday())\n",
        "parking[\"date\"] = parking[\"Status_Timestamp\"].apply(lambda x : dparser.parse(x,fuzzy=True).date())"
      ]
    },
    {
      "cell_type": "code",
      "execution_count": 93,
      "metadata": {
        "id": "_zDP-OZ0IcaR"
      },
      "outputs": [],
      "source": [
        "weather[\"date\"] = weather[\"time\"].apply(lambda x : dparser.parse(x,fuzzy=True).date())"
      ]
    },
    {
      "cell_type": "code",
      "execution_count": 94,
      "metadata": {
        "id": "STQ710tjImcb"
      },
      "outputs": [],
      "source": [
        "dataset = pd.merge(parking,weather,how=\"left\",on=\"date\")"
      ]
    },
    {
      "cell_type": "code",
      "execution_count": 95,
      "metadata": {
        "colab": {
          "base_uri": "https://localhost:8080/",
          "height": 630
        },
        "id": "NaEx99KpIqxO",
        "outputId": "f1b6dbf9-b5f9-4c3e-9311-874580c0e4c6"
      },
      "outputs": [
        {
          "output_type": "execute_result",
          "data": {
            "text/plain": [
              "                 Lastupdated           Status_Timestamp  Zone_Number  \\\n",
              "0  2023-07-20T15:44:36+10:00  2023-07-20T07:24:38+10:00       7358.0   \n",
              "1  2023-07-20T15:44:36+10:00  2023-07-20T07:24:38+10:00       7358.0   \n",
              "2  2023-07-20T15:44:36+10:00  2023-07-20T07:24:38+10:00       7358.0   \n",
              "3  2023-07-20T15:44:36+10:00  2023-07-20T07:24:38+10:00       7358.0   \n",
              "4  2023-07-20T15:44:36+10:00  2023-07-20T07:24:38+10:00       7358.0   \n",
              "5  2023-07-20T15:44:36+10:00  2023-07-20T07:24:38+10:00       7358.0   \n",
              "6  2023-07-20T15:44:36+10:00  2023-07-20T07:24:38+10:00       7358.0   \n",
              "7  2023-07-20T15:44:36+10:00  2023-07-20T07:24:38+10:00       7358.0   \n",
              "8  2023-07-20T15:44:36+10:00  2023-07-20T07:24:38+10:00       7358.0   \n",
              "9  2023-07-20T15:44:36+10:00  2023-07-20T07:24:38+10:00       7358.0   \n",
              "\n",
              "  Status_Description  Parkingbay_ID                                 Location  \\\n",
              "0         Unoccupied           7075  -37.814590620776784, 144.96934964923082   \n",
              "1         Unoccupied           7075  -37.814590620776784, 144.96934964923082   \n",
              "2         Unoccupied           7075  -37.814590620776784, 144.96934964923082   \n",
              "3         Unoccupied           7075  -37.814590620776784, 144.96934964923082   \n",
              "4         Unoccupied           7075  -37.814590620776784, 144.96934964923082   \n",
              "5         Unoccupied           7075  -37.814590620776784, 144.96934964923082   \n",
              "6         Unoccupied           7075  -37.814590620776784, 144.96934964923082   \n",
              "7         Unoccupied           7075  -37.814590620776784, 144.96934964923082   \n",
              "8         Unoccupied           7075  -37.814590620776784, 144.96934964923082   \n",
              "9         Unoccupied           7075  -37.814590620776784, 144.96934964923082   \n",
              "\n",
              "                   lat                  lon  Hour  Weekday  ... solar  \\\n",
              "0  -37.814590620776784   144.96934964923082     7        3  ...   0.0   \n",
              "1  -37.814590620776784   144.96934964923082     7        3  ...   0.0   \n",
              "2  -37.814590620776784   144.96934964923082     7        3  ...   0.0   \n",
              "3  -37.814590620776784   144.96934964923082     7        3  ...   0.0   \n",
              "4  -37.814590620776784   144.96934964923082     7        3  ...   0.0   \n",
              "5  -37.814590620776784   144.96934964923082     7        3  ...   0.0   \n",
              "6  -37.814590620776784   144.96934964923082     7        3  ...  23.0   \n",
              "7  -37.814590620776784   144.96934964923082     7        3  ...  11.0   \n",
              "8  -37.814590620776784   144.96934964923082     7        3  ...   6.0   \n",
              "9  -37.814590620776784   144.96934964923082     7        3  ...   0.0   \n",
              "\n",
              "  precipitation  strikes  windspeed  winddirection  gustspeed  vapourpressure  \\\n",
              "0           0.0      0.0       0.68          161.1       1.65            1.03   \n",
              "1           0.0      0.0       1.00           35.7       5.05            1.03   \n",
              "2           0.0      0.0       0.70           28.0       2.46            1.04   \n",
              "3           0.0      0.0       0.50           79.2       1.44            1.03   \n",
              "4           0.0      0.0       0.61           58.9       1.85            1.01   \n",
              "5           0.0      0.0       0.55          246.2       2.16            1.01   \n",
              "6           0.0      0.0       0.82          131.5       4.31            0.99   \n",
              "7           0.0      0.0       1.00           92.4       5.89            0.99   \n",
              "8           0.0      0.0       1.27           41.5       4.47            1.00   \n",
              "9           0.0      0.0       0.84          162.6       2.85            1.01   \n",
              "\n",
              "   atmosphericpressure  relativehumidity  airtemp  \n",
              "0               100.80              82.0     10.3  \n",
              "1               100.82              82.0     10.4  \n",
              "2               100.91              83.0     10.3  \n",
              "3               100.94              83.0     10.1  \n",
              "4               100.95              83.0      9.9  \n",
              "5               100.97              84.0      9.7  \n",
              "6               100.56              80.0     10.1  \n",
              "7               100.63              78.0     10.5  \n",
              "8               100.60              78.0     10.6  \n",
              "9               100.69              80.0     10.4  \n",
              "\n",
              "[10 rows x 26 columns]"
            ],
            "text/html": [
              "\n",
              "\n",
              "  <div id=\"df-27686aa6-b5cb-4929-b190-d5ee430a3e7c\">\n",
              "    <div class=\"colab-df-container\">\n",
              "      <div>\n",
              "<style scoped>\n",
              "    .dataframe tbody tr th:only-of-type {\n",
              "        vertical-align: middle;\n",
              "    }\n",
              "\n",
              "    .dataframe tbody tr th {\n",
              "        vertical-align: top;\n",
              "    }\n",
              "\n",
              "    .dataframe thead th {\n",
              "        text-align: right;\n",
              "    }\n",
              "</style>\n",
              "<table border=\"1\" class=\"dataframe\">\n",
              "  <thead>\n",
              "    <tr style=\"text-align: right;\">\n",
              "      <th></th>\n",
              "      <th>Lastupdated</th>\n",
              "      <th>Status_Timestamp</th>\n",
              "      <th>Zone_Number</th>\n",
              "      <th>Status_Description</th>\n",
              "      <th>Parkingbay_ID</th>\n",
              "      <th>Location</th>\n",
              "      <th>lat</th>\n",
              "      <th>lon</th>\n",
              "      <th>Hour</th>\n",
              "      <th>Weekday</th>\n",
              "      <th>...</th>\n",
              "      <th>solar</th>\n",
              "      <th>precipitation</th>\n",
              "      <th>strikes</th>\n",
              "      <th>windspeed</th>\n",
              "      <th>winddirection</th>\n",
              "      <th>gustspeed</th>\n",
              "      <th>vapourpressure</th>\n",
              "      <th>atmosphericpressure</th>\n",
              "      <th>relativehumidity</th>\n",
              "      <th>airtemp</th>\n",
              "    </tr>\n",
              "  </thead>\n",
              "  <tbody>\n",
              "    <tr>\n",
              "      <th>0</th>\n",
              "      <td>2023-07-20T15:44:36+10:00</td>\n",
              "      <td>2023-07-20T07:24:38+10:00</td>\n",
              "      <td>7358.0</td>\n",
              "      <td>Unoccupied</td>\n",
              "      <td>7075</td>\n",
              "      <td>-37.814590620776784, 144.96934964923082</td>\n",
              "      <td>-37.814590620776784</td>\n",
              "      <td>144.96934964923082</td>\n",
              "      <td>7</td>\n",
              "      <td>3</td>\n",
              "      <td>...</td>\n",
              "      <td>0.0</td>\n",
              "      <td>0.0</td>\n",
              "      <td>0.0</td>\n",
              "      <td>0.68</td>\n",
              "      <td>161.1</td>\n",
              "      <td>1.65</td>\n",
              "      <td>1.03</td>\n",
              "      <td>100.80</td>\n",
              "      <td>82.0</td>\n",
              "      <td>10.3</td>\n",
              "    </tr>\n",
              "    <tr>\n",
              "      <th>1</th>\n",
              "      <td>2023-07-20T15:44:36+10:00</td>\n",
              "      <td>2023-07-20T07:24:38+10:00</td>\n",
              "      <td>7358.0</td>\n",
              "      <td>Unoccupied</td>\n",
              "      <td>7075</td>\n",
              "      <td>-37.814590620776784, 144.96934964923082</td>\n",
              "      <td>-37.814590620776784</td>\n",
              "      <td>144.96934964923082</td>\n",
              "      <td>7</td>\n",
              "      <td>3</td>\n",
              "      <td>...</td>\n",
              "      <td>0.0</td>\n",
              "      <td>0.0</td>\n",
              "      <td>0.0</td>\n",
              "      <td>1.00</td>\n",
              "      <td>35.7</td>\n",
              "      <td>5.05</td>\n",
              "      <td>1.03</td>\n",
              "      <td>100.82</td>\n",
              "      <td>82.0</td>\n",
              "      <td>10.4</td>\n",
              "    </tr>\n",
              "    <tr>\n",
              "      <th>2</th>\n",
              "      <td>2023-07-20T15:44:36+10:00</td>\n",
              "      <td>2023-07-20T07:24:38+10:00</td>\n",
              "      <td>7358.0</td>\n",
              "      <td>Unoccupied</td>\n",
              "      <td>7075</td>\n",
              "      <td>-37.814590620776784, 144.96934964923082</td>\n",
              "      <td>-37.814590620776784</td>\n",
              "      <td>144.96934964923082</td>\n",
              "      <td>7</td>\n",
              "      <td>3</td>\n",
              "      <td>...</td>\n",
              "      <td>0.0</td>\n",
              "      <td>0.0</td>\n",
              "      <td>0.0</td>\n",
              "      <td>0.70</td>\n",
              "      <td>28.0</td>\n",
              "      <td>2.46</td>\n",
              "      <td>1.04</td>\n",
              "      <td>100.91</td>\n",
              "      <td>83.0</td>\n",
              "      <td>10.3</td>\n",
              "    </tr>\n",
              "    <tr>\n",
              "      <th>3</th>\n",
              "      <td>2023-07-20T15:44:36+10:00</td>\n",
              "      <td>2023-07-20T07:24:38+10:00</td>\n",
              "      <td>7358.0</td>\n",
              "      <td>Unoccupied</td>\n",
              "      <td>7075</td>\n",
              "      <td>-37.814590620776784, 144.96934964923082</td>\n",
              "      <td>-37.814590620776784</td>\n",
              "      <td>144.96934964923082</td>\n",
              "      <td>7</td>\n",
              "      <td>3</td>\n",
              "      <td>...</td>\n",
              "      <td>0.0</td>\n",
              "      <td>0.0</td>\n",
              "      <td>0.0</td>\n",
              "      <td>0.50</td>\n",
              "      <td>79.2</td>\n",
              "      <td>1.44</td>\n",
              "      <td>1.03</td>\n",
              "      <td>100.94</td>\n",
              "      <td>83.0</td>\n",
              "      <td>10.1</td>\n",
              "    </tr>\n",
              "    <tr>\n",
              "      <th>4</th>\n",
              "      <td>2023-07-20T15:44:36+10:00</td>\n",
              "      <td>2023-07-20T07:24:38+10:00</td>\n",
              "      <td>7358.0</td>\n",
              "      <td>Unoccupied</td>\n",
              "      <td>7075</td>\n",
              "      <td>-37.814590620776784, 144.96934964923082</td>\n",
              "      <td>-37.814590620776784</td>\n",
              "      <td>144.96934964923082</td>\n",
              "      <td>7</td>\n",
              "      <td>3</td>\n",
              "      <td>...</td>\n",
              "      <td>0.0</td>\n",
              "      <td>0.0</td>\n",
              "      <td>0.0</td>\n",
              "      <td>0.61</td>\n",
              "      <td>58.9</td>\n",
              "      <td>1.85</td>\n",
              "      <td>1.01</td>\n",
              "      <td>100.95</td>\n",
              "      <td>83.0</td>\n",
              "      <td>9.9</td>\n",
              "    </tr>\n",
              "    <tr>\n",
              "      <th>5</th>\n",
              "      <td>2023-07-20T15:44:36+10:00</td>\n",
              "      <td>2023-07-20T07:24:38+10:00</td>\n",
              "      <td>7358.0</td>\n",
              "      <td>Unoccupied</td>\n",
              "      <td>7075</td>\n",
              "      <td>-37.814590620776784, 144.96934964923082</td>\n",
              "      <td>-37.814590620776784</td>\n",
              "      <td>144.96934964923082</td>\n",
              "      <td>7</td>\n",
              "      <td>3</td>\n",
              "      <td>...</td>\n",
              "      <td>0.0</td>\n",
              "      <td>0.0</td>\n",
              "      <td>0.0</td>\n",
              "      <td>0.55</td>\n",
              "      <td>246.2</td>\n",
              "      <td>2.16</td>\n",
              "      <td>1.01</td>\n",
              "      <td>100.97</td>\n",
              "      <td>84.0</td>\n",
              "      <td>9.7</td>\n",
              "    </tr>\n",
              "    <tr>\n",
              "      <th>6</th>\n",
              "      <td>2023-07-20T15:44:36+10:00</td>\n",
              "      <td>2023-07-20T07:24:38+10:00</td>\n",
              "      <td>7358.0</td>\n",
              "      <td>Unoccupied</td>\n",
              "      <td>7075</td>\n",
              "      <td>-37.814590620776784, 144.96934964923082</td>\n",
              "      <td>-37.814590620776784</td>\n",
              "      <td>144.96934964923082</td>\n",
              "      <td>7</td>\n",
              "      <td>3</td>\n",
              "      <td>...</td>\n",
              "      <td>23.0</td>\n",
              "      <td>0.0</td>\n",
              "      <td>0.0</td>\n",
              "      <td>0.82</td>\n",
              "      <td>131.5</td>\n",
              "      <td>4.31</td>\n",
              "      <td>0.99</td>\n",
              "      <td>100.56</td>\n",
              "      <td>80.0</td>\n",
              "      <td>10.1</td>\n",
              "    </tr>\n",
              "    <tr>\n",
              "      <th>7</th>\n",
              "      <td>2023-07-20T15:44:36+10:00</td>\n",
              "      <td>2023-07-20T07:24:38+10:00</td>\n",
              "      <td>7358.0</td>\n",
              "      <td>Unoccupied</td>\n",
              "      <td>7075</td>\n",
              "      <td>-37.814590620776784, 144.96934964923082</td>\n",
              "      <td>-37.814590620776784</td>\n",
              "      <td>144.96934964923082</td>\n",
              "      <td>7</td>\n",
              "      <td>3</td>\n",
              "      <td>...</td>\n",
              "      <td>11.0</td>\n",
              "      <td>0.0</td>\n",
              "      <td>0.0</td>\n",
              "      <td>1.00</td>\n",
              "      <td>92.4</td>\n",
              "      <td>5.89</td>\n",
              "      <td>0.99</td>\n",
              "      <td>100.63</td>\n",
              "      <td>78.0</td>\n",
              "      <td>10.5</td>\n",
              "    </tr>\n",
              "    <tr>\n",
              "      <th>8</th>\n",
              "      <td>2023-07-20T15:44:36+10:00</td>\n",
              "      <td>2023-07-20T07:24:38+10:00</td>\n",
              "      <td>7358.0</td>\n",
              "      <td>Unoccupied</td>\n",
              "      <td>7075</td>\n",
              "      <td>-37.814590620776784, 144.96934964923082</td>\n",
              "      <td>-37.814590620776784</td>\n",
              "      <td>144.96934964923082</td>\n",
              "      <td>7</td>\n",
              "      <td>3</td>\n",
              "      <td>...</td>\n",
              "      <td>6.0</td>\n",
              "      <td>0.0</td>\n",
              "      <td>0.0</td>\n",
              "      <td>1.27</td>\n",
              "      <td>41.5</td>\n",
              "      <td>4.47</td>\n",
              "      <td>1.00</td>\n",
              "      <td>100.60</td>\n",
              "      <td>78.0</td>\n",
              "      <td>10.6</td>\n",
              "    </tr>\n",
              "    <tr>\n",
              "      <th>9</th>\n",
              "      <td>2023-07-20T15:44:36+10:00</td>\n",
              "      <td>2023-07-20T07:24:38+10:00</td>\n",
              "      <td>7358.0</td>\n",
              "      <td>Unoccupied</td>\n",
              "      <td>7075</td>\n",
              "      <td>-37.814590620776784, 144.96934964923082</td>\n",
              "      <td>-37.814590620776784</td>\n",
              "      <td>144.96934964923082</td>\n",
              "      <td>7</td>\n",
              "      <td>3</td>\n",
              "      <td>...</td>\n",
              "      <td>0.0</td>\n",
              "      <td>0.0</td>\n",
              "      <td>0.0</td>\n",
              "      <td>0.84</td>\n",
              "      <td>162.6</td>\n",
              "      <td>2.85</td>\n",
              "      <td>1.01</td>\n",
              "      <td>100.69</td>\n",
              "      <td>80.0</td>\n",
              "      <td>10.4</td>\n",
              "    </tr>\n",
              "  </tbody>\n",
              "</table>\n",
              "<p>10 rows × 26 columns</p>\n",
              "</div>\n",
              "      <button class=\"colab-df-convert\" onclick=\"convertToInteractive('df-27686aa6-b5cb-4929-b190-d5ee430a3e7c')\"\n",
              "              title=\"Convert this dataframe to an interactive table.\"\n",
              "              style=\"display:none;\">\n",
              "\n",
              "  <svg xmlns=\"http://www.w3.org/2000/svg\" height=\"24px\"viewBox=\"0 0 24 24\"\n",
              "       width=\"24px\">\n",
              "    <path d=\"M0 0h24v24H0V0z\" fill=\"none\"/>\n",
              "    <path d=\"M18.56 5.44l.94 2.06.94-2.06 2.06-.94-2.06-.94-.94-2.06-.94 2.06-2.06.94zm-11 1L8.5 8.5l.94-2.06 2.06-.94-2.06-.94L8.5 2.5l-.94 2.06-2.06.94zm10 10l.94 2.06.94-2.06 2.06-.94-2.06-.94-.94-2.06-.94 2.06-2.06.94z\"/><path d=\"M17.41 7.96l-1.37-1.37c-.4-.4-.92-.59-1.43-.59-.52 0-1.04.2-1.43.59L10.3 9.45l-7.72 7.72c-.78.78-.78 2.05 0 2.83L4 21.41c.39.39.9.59 1.41.59.51 0 1.02-.2 1.41-.59l7.78-7.78 2.81-2.81c.8-.78.8-2.07 0-2.86zM5.41 20L4 18.59l7.72-7.72 1.47 1.35L5.41 20z\"/>\n",
              "  </svg>\n",
              "      </button>\n",
              "\n",
              "\n",
              "\n",
              "    <div id=\"df-38856771-e223-4bc6-8177-f5deaf3672bc\">\n",
              "      <button class=\"colab-df-quickchart\" onclick=\"quickchart('df-38856771-e223-4bc6-8177-f5deaf3672bc')\"\n",
              "              title=\"Suggest charts.\"\n",
              "              style=\"display:none;\">\n",
              "\n",
              "<svg xmlns=\"http://www.w3.org/2000/svg\" height=\"24px\"viewBox=\"0 0 24 24\"\n",
              "     width=\"24px\">\n",
              "    <g>\n",
              "        <path d=\"M19 3H5c-1.1 0-2 .9-2 2v14c0 1.1.9 2 2 2h14c1.1 0 2-.9 2-2V5c0-1.1-.9-2-2-2zM9 17H7v-7h2v7zm4 0h-2V7h2v10zm4 0h-2v-4h2v4z\"/>\n",
              "    </g>\n",
              "</svg>\n",
              "      </button>\n",
              "    </div>\n",
              "\n",
              "<style>\n",
              "  .colab-df-quickchart {\n",
              "    background-color: #E8F0FE;\n",
              "    border: none;\n",
              "    border-radius: 50%;\n",
              "    cursor: pointer;\n",
              "    display: none;\n",
              "    fill: #1967D2;\n",
              "    height: 32px;\n",
              "    padding: 0 0 0 0;\n",
              "    width: 32px;\n",
              "  }\n",
              "\n",
              "  .colab-df-quickchart:hover {\n",
              "    background-color: #E2EBFA;\n",
              "    box-shadow: 0px 1px 2px rgba(60, 64, 67, 0.3), 0px 1px 3px 1px rgba(60, 64, 67, 0.15);\n",
              "    fill: #174EA6;\n",
              "  }\n",
              "\n",
              "  [theme=dark] .colab-df-quickchart {\n",
              "    background-color: #3B4455;\n",
              "    fill: #D2E3FC;\n",
              "  }\n",
              "\n",
              "  [theme=dark] .colab-df-quickchart:hover {\n",
              "    background-color: #434B5C;\n",
              "    box-shadow: 0px 1px 3px 1px rgba(0, 0, 0, 0.15);\n",
              "    filter: drop-shadow(0px 1px 2px rgba(0, 0, 0, 0.3));\n",
              "    fill: #FFFFFF;\n",
              "  }\n",
              "</style>\n",
              "\n",
              "    <script>\n",
              "      async function quickchart(key) {\n",
              "        const containerElement = document.querySelector('#' + key);\n",
              "        const charts = await google.colab.kernel.invokeFunction(\n",
              "            'suggestCharts', [key], {});\n",
              "      }\n",
              "    </script>\n",
              "\n",
              "      <script>\n",
              "\n",
              "function displayQuickchartButton(domScope) {\n",
              "  let quickchartButtonEl =\n",
              "    domScope.querySelector('#df-38856771-e223-4bc6-8177-f5deaf3672bc button.colab-df-quickchart');\n",
              "  quickchartButtonEl.style.display =\n",
              "    google.colab.kernel.accessAllowed ? 'block' : 'none';\n",
              "}\n",
              "\n",
              "        displayQuickchartButton(document);\n",
              "      </script>\n",
              "      <style>\n",
              "    .colab-df-container {\n",
              "      display:flex;\n",
              "      flex-wrap:wrap;\n",
              "      gap: 12px;\n",
              "    }\n",
              "\n",
              "    .colab-df-convert {\n",
              "      background-color: #E8F0FE;\n",
              "      border: none;\n",
              "      border-radius: 50%;\n",
              "      cursor: pointer;\n",
              "      display: none;\n",
              "      fill: #1967D2;\n",
              "      height: 32px;\n",
              "      padding: 0 0 0 0;\n",
              "      width: 32px;\n",
              "    }\n",
              "\n",
              "    .colab-df-convert:hover {\n",
              "      background-color: #E2EBFA;\n",
              "      box-shadow: 0px 1px 2px rgba(60, 64, 67, 0.3), 0px 1px 3px 1px rgba(60, 64, 67, 0.15);\n",
              "      fill: #174EA6;\n",
              "    }\n",
              "\n",
              "    [theme=dark] .colab-df-convert {\n",
              "      background-color: #3B4455;\n",
              "      fill: #D2E3FC;\n",
              "    }\n",
              "\n",
              "    [theme=dark] .colab-df-convert:hover {\n",
              "      background-color: #434B5C;\n",
              "      box-shadow: 0px 1px 3px 1px rgba(0, 0, 0, 0.15);\n",
              "      filter: drop-shadow(0px 1px 2px rgba(0, 0, 0, 0.3));\n",
              "      fill: #FFFFFF;\n",
              "    }\n",
              "  </style>\n",
              "\n",
              "      <script>\n",
              "        const buttonEl =\n",
              "          document.querySelector('#df-27686aa6-b5cb-4929-b190-d5ee430a3e7c button.colab-df-convert');\n",
              "        buttonEl.style.display =\n",
              "          google.colab.kernel.accessAllowed ? 'block' : 'none';\n",
              "\n",
              "        async function convertToInteractive(key) {\n",
              "          const element = document.querySelector('#df-27686aa6-b5cb-4929-b190-d5ee430a3e7c');\n",
              "          const dataTable =\n",
              "            await google.colab.kernel.invokeFunction('convertToInteractive',\n",
              "                                                     [key], {});\n",
              "          if (!dataTable) return;\n",
              "\n",
              "          const docLinkHtml = 'Like what you see? Visit the ' +\n",
              "            '<a target=\"_blank\" href=https://colab.research.google.com/notebooks/data_table.ipynb>data table notebook</a>'\n",
              "            + ' to learn more about interactive tables.';\n",
              "          element.innerHTML = '';\n",
              "          dataTable['output_type'] = 'display_data';\n",
              "          await google.colab.output.renderOutput(dataTable, element);\n",
              "          const docLink = document.createElement('div');\n",
              "          docLink.innerHTML = docLinkHtml;\n",
              "          element.appendChild(docLink);\n",
              "        }\n",
              "      </script>\n",
              "    </div>\n",
              "  </div>\n"
            ]
          },
          "metadata": {},
          "execution_count": 95
        }
      ],
      "source": [
        "dataset.head(10)"
      ]
    },
    {
      "cell_type": "code",
      "execution_count": 96,
      "metadata": {
        "id": "1b2UmOtzJEpY"
      },
      "outputs": [],
      "source": [
        "dataset[\"y\"] = dataset[\"Status_Description\"].apply(lambda x : 0 if x  == \"Present\" else 1 )"
      ]
    },
    {
      "cell_type": "code",
      "execution_count": 97,
      "metadata": {
        "id": "Aa4b9oihJIaO"
      },
      "outputs": [],
      "source": [
        "dataset = dataset.dropna(subset=[\"airtemp\"])"
      ]
    },
    {
      "cell_type": "code",
      "execution_count": 98,
      "metadata": {
        "colab": {
          "base_uri": "https://localhost:8080/"
        },
        "id": "tiElWJIOKOrX",
        "outputId": "14cd8abe-01f5-4aa3-f24b-bdff9395b0e4"
      },
      "outputs": [
        {
          "output_type": "execute_result",
          "data": {
            "text/plain": [
              "['solarpanel',\n",
              " 'command',\n",
              " 'solar',\n",
              " 'precipitation',\n",
              " 'strikes',\n",
              " 'windspeed',\n",
              " 'winddirection',\n",
              " 'gustspeed',\n",
              " 'vapourpressure',\n",
              " 'atmosphericpressure',\n",
              " 'relativehumidity',\n",
              " 'airtemp']"
            ]
          },
          "metadata": {},
          "execution_count": 98
        }
      ],
      "source": [
        "weather.drop([\"time\",\"rtc\",\"date\",\"battery\"],axis=1).columns.to_list()"
      ]
    },
    {
      "cell_type": "code",
      "execution_count": 99,
      "metadata": {
        "id": "D1f7MRSRJb2G"
      },
      "outputs": [],
      "source": [
        "# + weather.drop([\"time\",\"rtc\",\"date\",\"battery\"],axis=1).columns.to_list()\n",
        "features = [\"lat\",\"lon\",\"Hour\",\"Weekday\"] + weather.drop([\"time\",\"rtc\",\"date\",\"battery\"],axis=1).columns.to_list()"
      ]
    },
    {
      "cell_type": "code",
      "execution_count": 100,
      "metadata": {
        "colab": {
          "base_uri": "https://localhost:8080/"
        },
        "id": "juSPBYKRKBkf",
        "outputId": "ebf7f523-faae-442a-f0dd-df9d3be0a935"
      },
      "outputs": [
        {
          "output_type": "execute_result",
          "data": {
            "text/plain": [
              "['lat',\n",
              " 'lon',\n",
              " 'Hour',\n",
              " 'Weekday',\n",
              " 'solarpanel',\n",
              " 'command',\n",
              " 'solar',\n",
              " 'precipitation',\n",
              " 'strikes',\n",
              " 'windspeed',\n",
              " 'winddirection',\n",
              " 'gustspeed',\n",
              " 'vapourpressure',\n",
              " 'atmosphericpressure',\n",
              " 'relativehumidity',\n",
              " 'airtemp']"
            ]
          },
          "metadata": {},
          "execution_count": 100
        }
      ],
      "source": [
        "features"
      ]
    },
    {
      "cell_type": "code",
      "execution_count": 101,
      "metadata": {
        "id": "LyMwrNl5K9tq"
      },
      "outputs": [],
      "source": [
        "X = dataset[features]\n",
        "y = dataset[\"y\"]"
      ]
    },
    {
      "cell_type": "code",
      "execution_count": 102,
      "metadata": {
        "colab": {
          "base_uri": "https://localhost:8080/"
        },
        "id": "sSRAMaMeLYYq",
        "outputId": "5f954125-7465-4fd4-bf0e-d556cd41ef10"
      },
      "outputs": [
        {
          "output_type": "stream",
          "name": "stderr",
          "text": [
            "<ipython-input-102-5551987caed6>:1: SettingWithCopyWarning: \n",
            "A value is trying to be set on a copy of a slice from a DataFrame.\n",
            "Try using .loc[row_indexer,col_indexer] = value instead\n",
            "\n",
            "See the caveats in the documentation: https://pandas.pydata.org/pandas-docs/stable/user_guide/indexing.html#returning-a-view-versus-a-copy\n",
            "  X.lat = pd.to_numeric(X.lat)\n"
          ]
        }
      ],
      "source": [
        "X.lat = pd.to_numeric(X.lat)"
      ]
    },
    {
      "cell_type": "code",
      "execution_count": 103,
      "metadata": {
        "colab": {
          "base_uri": "https://localhost:8080/"
        },
        "id": "eD3PKC_NMopG",
        "outputId": "c1c51cec-c6ab-4bd3-a56f-094636e249a2"
      },
      "outputs": [
        {
          "output_type": "stream",
          "name": "stderr",
          "text": [
            "<ipython-input-103-b56424cb3962>:1: SettingWithCopyWarning: \n",
            "A value is trying to be set on a copy of a slice from a DataFrame.\n",
            "Try using .loc[row_indexer,col_indexer] = value instead\n",
            "\n",
            "See the caveats in the documentation: https://pandas.pydata.org/pandas-docs/stable/user_guide/indexing.html#returning-a-view-versus-a-copy\n",
            "  X.lon = pd.to_numeric(X.lon)\n"
          ]
        }
      ],
      "source": [
        "X.lon = pd.to_numeric(X.lon)"
      ]
    },
    {
      "cell_type": "code",
      "source": [
        "len(features)"
      ],
      "metadata": {
        "colab": {
          "base_uri": "https://localhost:8080/"
        },
        "id": "A70UkYWab85X",
        "outputId": "f4fe5014-db9d-4320-b3d6-5aff6b142767"
      },
      "execution_count": 104,
      "outputs": [
        {
          "output_type": "execute_result",
          "data": {
            "text/plain": [
              "16"
            ]
          },
          "metadata": {},
          "execution_count": 104
        }
      ]
    },
    {
      "cell_type": "code",
      "execution_count": 105,
      "metadata": {
        "id": "2fenrcsF5DnT"
      },
      "outputs": [],
      "source": [
        "from sklearn.model_selection import train_test_split\n",
        "\n",
        "X_train, X_test, y_train, y_test = train_test_split( X, y, test_size=0.25, random_state=42)"
      ]
    },
    {
      "cell_type": "code",
      "execution_count": 106,
      "metadata": {
        "id": "RArA8gMuxTzV"
      },
      "outputs": [],
      "source": [
        "# from sklearn import preprocessing\n",
        "# scaler = preprocessing.MinMaxScaler()\n",
        "# x_train = scaler.fit_transform(X_train.values)\n",
        "# x_test =  scaler.fit_transform(X_test.values)\n",
        "x_train = X_train\n",
        "x_test = X_test"
      ]
    },
    {
      "cell_type": "markdown",
      "metadata": {
        "id": "EMyYnGZ85OVs"
      },
      "source": []
    },
    {
      "cell_type": "code",
      "execution_count": 107,
      "metadata": {
        "id": "nxw1O3IwKjRD"
      },
      "outputs": [],
      "source": [
        "import torch\n",
        "# device = (\n",
        "#     \"cuda\"\n",
        "#     if torch.cuda.is_available()\n",
        "#     else \"mps\"\n",
        "#     if torch.backends.mps.is_available()\n",
        "#     else \"cpu\"\n",
        "# )\n",
        "# print(device)\n",
        "device = \"cpu\"\n",
        "X_train = torch.tensor(x_train.values, dtype=torch.float32).to(device)\n",
        "y_train = torch.tensor(y_train.values, dtype=torch.float32).reshape(-1, 1).to(device)\n",
        "\n",
        "X_test = torch.tensor(x_test.values, dtype=torch.float32).to(device)\n",
        "y_test = torch.tensor(y_test.values, dtype=torch.float32).reshape(-1, 1).to(device)"
      ]
    },
    {
      "cell_type": "code",
      "execution_count": 108,
      "metadata": {
        "id": "tfZ2n5Lu4xjS"
      },
      "outputs": [],
      "source": [
        "from torch.utils.data import DataLoader ,TensorDataset\n",
        "\n",
        "loaded_train = DataLoader(TensorDataset(X_train,y_train), batch_size=25, shuffle=True)\n",
        "loaded_test = DataLoader(TensorDataset(X_test,y_test), batch_size=25, shuffle=True)"
      ]
    },
    {
      "cell_type": "code",
      "execution_count": 109,
      "metadata": {
        "id": "4MrfsIH808Sp",
        "colab": {
          "base_uri": "https://localhost:8080/"
        },
        "outputId": "81220bdd-ccfb-4c81-cc54-787aea69fcc3"
      },
      "outputs": [
        {
          "output_type": "execute_result",
          "data": {
            "text/plain": [
              "torch.Size([121457, 16])"
            ]
          },
          "metadata": {},
          "execution_count": 109
        }
      ],
      "source": [
        "X_train.shape"
      ]
    },
    {
      "cell_type": "code",
      "execution_count": 110,
      "metadata": {
        "id": "gondtGDkLGhK"
      },
      "outputs": [],
      "source": [
        "from torch import nn\n",
        "\n",
        "class NeuralNetwork(nn.Module):\n",
        "    def __init__(self):\n",
        "        super(NeuralNetwork, self).__init__()\n",
        "        self.flatten = nn.Flatten()\n",
        "        self.linear_relu_stack = nn.Sequential(\n",
        "            nn.Linear(16, 255),\n",
        "            nn.ReLU(),\n",
        "            nn.Linear(255, 255),\n",
        "            nn.ReLU(),\n",
        "            nn.Linear(255, 255),\n",
        "            nn.ReLU(),\n",
        "            nn.Linear(255, 1),\n",
        "            nn.Sigmoid()\n",
        "        )\n",
        "\n",
        "    def forward(self, x):\n",
        "        x = self.flatten(x)\n",
        "        logits = self.linear_relu_stack(x)\n",
        "        return logits"
      ]
    },
    {
      "cell_type": "code",
      "execution_count": 110,
      "metadata": {
        "id": "uw19DRc-Pq7A"
      },
      "outputs": [],
      "source": []
    },
    {
      "cell_type": "code",
      "execution_count": 111,
      "metadata": {
        "colab": {
          "base_uri": "https://localhost:8080/"
        },
        "id": "HfEELROCPsbw",
        "outputId": "b26d3767-f79a-4629-929f-aa64f8bd58aa"
      },
      "outputs": [
        {
          "output_type": "stream",
          "name": "stdout",
          "text": [
            "NeuralNetwork(\n",
            "  (flatten): Flatten(start_dim=1, end_dim=-1)\n",
            "  (linear_relu_stack): Sequential(\n",
            "    (0): Linear(in_features=16, out_features=255, bias=True)\n",
            "    (1): ReLU()\n",
            "    (2): Linear(in_features=255, out_features=255, bias=True)\n",
            "    (3): ReLU()\n",
            "    (4): Linear(in_features=255, out_features=255, bias=True)\n",
            "    (5): ReLU()\n",
            "    (6): Linear(in_features=255, out_features=1, bias=True)\n",
            "    (7): Sigmoid()\n",
            "  )\n",
            ")\n"
          ]
        }
      ],
      "source": [
        "model = NeuralNetwork().to(device)\n",
        "print(model)"
      ]
    },
    {
      "cell_type": "code",
      "execution_count": 112,
      "metadata": {
        "id": "bXLSIPOPP3Iv"
      },
      "outputs": [],
      "source": [
        "loss_function = nn.BCELoss()\n",
        "optimizer = torch.optim.Adam(model.parameters(), lr=0.001)"
      ]
    },
    {
      "cell_type": "code",
      "execution_count": 112,
      "metadata": {
        "id": "dO0K3GG6vjms"
      },
      "outputs": [],
      "source": []
    },
    {
      "cell_type": "code",
      "execution_count": 113,
      "metadata": {
        "id": "WnWgIsqE75Mp"
      },
      "outputs": [],
      "source": [
        "def binary_acc(y_pred, y_test):\n",
        "    y_pred_tag = torch.round(y_pred)\n",
        "    correct_results_sum = (y_pred_tag == y_test).sum().float()\n",
        "\n",
        "    # print(y_pred_tag == y_test)\n",
        "    # print((y_pred_tag == y_test).sum().float())\n",
        "    acc = correct_results_sum/y_test.shape[0]\n",
        "\n",
        "    acc = torch.round(acc * 100)\n",
        "\n",
        "    return acc"
      ]
    },
    {
      "cell_type": "code",
      "execution_count": 121,
      "metadata": {
        "id": "c3ywMeSbOoLF"
      },
      "outputs": [],
      "source": [
        "def train(dataloader, model, loss_fn, optimizer,losslist):\n",
        "    size = len(dataloader.dataset)\n",
        "    model.train()\n",
        "    for batch, (X, y) in enumerate(dataloader):\n",
        "        #compute loss\n",
        "        pred = model(X)\n",
        "        loss = loss_fn(pred, y)\n",
        "\n",
        "\n",
        "        #backpropagtion\n",
        "        optimizer.zero_grad()\n",
        "        loss.backward()\n",
        "        optimizer.step()\n",
        "        losslist.append(loss.item())\n",
        "        if batch % 1000 == 0:\n",
        "\n",
        "            loss, current = loss.item(), batch * len(X)\n",
        "            print(f\"loss: {loss:>7f}  [{current:>5d}/{size:>5d}]\")"
      ]
    },
    {
      "cell_type": "code",
      "execution_count": 115,
      "metadata": {
        "id": "pVr66SqdNOq7"
      },
      "outputs": [],
      "source": [
        "def test(dataloader, model, loss_fn):\n",
        "    size = len(dataloader.dataset)\n",
        "    num_batches = len(dataloader)\n",
        "    model.eval()\n",
        "    test_loss, correct = 0, 0\n",
        "    with torch.no_grad():\n",
        "        for X, y in dataloader:\n",
        "            X, y = X.to(device), y.to(device)\n",
        "            pred = model(X)\n",
        "            test_loss += loss_fn(pred, y).item()\n",
        "            correct +=  binary_acc(pred,y)\n",
        "    test_loss /= num_batches\n",
        "    correct /= num_batches\n",
        "    print(f\"Test Error: \\n Accuracy: {(correct):>0.1f}%, Avg loss: {test_loss:>8f} \\n\")"
      ]
    },
    {
      "cell_type": "code",
      "execution_count": 116,
      "metadata": {
        "colab": {
          "base_uri": "https://localhost:8080/"
        },
        "id": "PwONfiGWNsKB",
        "outputId": "15ef552f-5a1a-4456-87f2-1ffa78bbcdc3"
      },
      "outputs": [
        {
          "output_type": "stream",
          "name": "stdout",
          "text": [
            "Epoch 1\n",
            "-------------------------------\n",
            "loss: 0.781226  [    0/121457]\n",
            "loss: 0.667766  [25000/121457]\n",
            "loss: 0.702356  [50000/121457]\n",
            "loss: 0.708367  [75000/121457]\n",
            "loss: 0.688468  [100000/121457]\n",
            "Test Error: \n",
            " Accuracy: 57.1%, Avg loss: 0.682529 \n",
            "\n",
            "Epoch 2\n",
            "-------------------------------\n",
            "loss: 0.687438  [    0/121457]\n",
            "loss: 0.713046  [25000/121457]\n",
            "loss: 0.714631  [50000/121457]\n",
            "loss: 0.691974  [75000/121457]\n",
            "loss: 0.634777  [100000/121457]\n",
            "Test Error: \n",
            " Accuracy: 63.9%, Avg loss: 0.647020 \n",
            "\n",
            "Epoch 3\n",
            "-------------------------------\n",
            "loss: 0.742087  [    0/121457]\n",
            "loss: 0.678351  [25000/121457]\n",
            "loss: 0.661221  [50000/121457]\n",
            "loss: 0.627817  [75000/121457]\n",
            "loss: 0.650549  [100000/121457]\n",
            "Test Error: \n",
            " Accuracy: 65.3%, Avg loss: 0.637158 \n",
            "\n",
            "Done!\n"
          ]
        }
      ],
      "source": [
        "epochs = 3\n",
        "losslist = []\n",
        "for t in range(epochs):\n",
        "    print(f\"Epoch {t+1}\\n-------------------------------\")\n",
        "    train(loaded_train, model, loss_function, optimizer,losslist)\n",
        "    test(loaded_test, model, loss_function)\n",
        "print(\"Done!\")"
      ]
    },
    {
      "cell_type": "code",
      "execution_count": 119,
      "metadata": {
        "id": "TfJ6XweZ6W_E",
        "colab": {
          "base_uri": "https://localhost:8080/",
          "height": 447
        },
        "outputId": "8d74d5ad-49ad-426e-e89a-21fc015c216f"
      },
      "outputs": [
        {
          "output_type": "execute_result",
          "data": {
            "text/plain": [
              "[<matplotlib.lines.Line2D at 0x7e9a3115a440>]"
            ]
          },
          "metadata": {},
          "execution_count": 119
        },
        {
          "output_type": "display_data",
          "data": {
            "text/plain": [
              "<Figure size 640x480 with 1 Axes>"
            ],
            "image/png": "[encoded data removed]"
          },
          "metadata": {}
        }
      ],
      "source": [
        "import matplotlib.pyplot as plt\n",
        "step = np.linspace(0,15,15)\n",
        "plt.plot(step,np.array(losslist))"
      ]
    },
    {
      "cell_type": "code",
      "source": [
        "losslist"
      ],
      "metadata": {
        "colab": {
          "base_uri": "https://localhost:8080/"
        },
        "id": "rA6rNBgn4V0D",
        "outputId": "48b6f04b-c8ce-4d94-aa06-9ea25bacb127"
      },
      "execution_count": 120,
      "outputs": [
        {
          "output_type": "execute_result",
          "data": {
            "text/plain": [
              "[0.7812263369560242,\n",
              " 0.667765736579895,\n",
              " 0.7023563981056213,\n",
              " 0.708367109298706,\n",
              " 0.6884681582450867,\n",
              " 0.6874380707740784,\n",
              " 0.7130456566810608,\n",
              " 0.7146310210227966,\n",
              " 0.6919736266136169,\n",
              " 0.6347765922546387,\n",
              " 0.7420870065689087,\n",
              " 0.6783511638641357,\n",
              " 0.661220908164978,\n",
              " 0.6278173327445984,\n",
              " 0.6505492329597473]"
            ]
          },
          "metadata": {},
          "execution_count": 120
        }
      ]
    },
    {
      "cell_type": "code",
      "source": [],
      "metadata": {
        "id": "uroX-ppQ4ZtD"
      },
      "execution_count": 118,
      "outputs": []
    }
  ],
  "metadata": {
    "accelerator": "GPU",
    "colab": {
      "provenance": [],
      "mount_file_id": "1jaQYfznSO2wQQEQZ33uep87o8bDzMqxA",
      "authorship_tag": "ABX9TyMI0C2vq3gEasMtxmOHKYOY",
      "include_colab_link": true
    },
    "kernelspec": {
      "display_name": "Python 3",
      "name": "python3"
    },
    "language_info": {
      "name": "python"
    }
  },
  "nbformat": 4,
  "nbformat_minor": 0
}