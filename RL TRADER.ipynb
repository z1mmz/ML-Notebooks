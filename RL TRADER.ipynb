{
 "cells": [
  {
   "cell_type": "code",
   "execution_count": 1,
   "metadata": {},
   "outputs": [
    {
     "name": "stderr",
     "output_type": "stream",
     "text": [
      "Using TensorFlow backend.\n"
     ]
    }
   ],
   "source": [
    "import numpy as np\n",
    "np.random.seed(1337)\n",
    "import pandas as pd\n",
    "from matplotlib import pyplot as plt\n",
    "%matplotlib inline\n",
    "\n",
    "\n",
    "from keras.models import Sequential\n",
    "from keras.layers import Dense\n",
    "from keras.optimizers import Adam\n",
    "from collections import deque\n",
    "import random\n",
    "import urllib, json\n",
    "import re\n",
    "from datetime import datetime\n",
    "import requests\n"
   ]
  },
  {
   "cell_type": "code",
   "execution_count": 2,
   "metadata": {
    "collapsed": true
   },
   "outputs": [],
   "source": [
    "memory = deque(maxlen=2000)\n",
    "gamma = 0.95  \n",
    "epsilon = 0.1  # exploration rate\n",
    "epsilon_min = 0.01\n",
    "epsilon_decay = 0.99\n",
    "learning_rate = 0.001\n",
    "batch_size = 32\n",
    "memory = []\n",
    "action_hist = []\n",
    "class Account:\n",
    "    cash = 100000\n",
    "    amount_held = 0\n",
    "    def calc_value(self,current_price):\n",
    "        return self.amount_held * current_price\n",
    "account = Account()"
   ]
  },
  {
   "cell_type": "code",
   "execution_count": 3,
   "metadata": {
    "collapsed": true
   },
   "outputs": [],
   "source": [
    "def build_network(input_sz):\n",
    "    model = Sequential()\n",
    "    model.add(Dense(125,input_dim=input_sz, activation='relu'))\n",
    "    model.add(Dense(50,activation='relu'))\n",
    "    model.add(Dense(2, activation='linear'))\n",
    "    try:\n",
    "        model.load_weights(\"rltrader.h5\")\n",
    "        print \"LOADEd weights\"\n",
    "    except:\n",
    "        pass\n",
    "    model.compile(loss='mse',optimizer=Adam(lr=learning_rate)) \n",
    "    return model"
   ]
  },
  {
   "cell_type": "code",
   "execution_count": null,
   "metadata": {
    "collapsed": true
   },
   "outputs": [],
   "source": []
  },
  {
   "cell_type": "code",
   "execution_count": 4,
   "metadata": {
    "collapsed": true
   },
   "outputs": [],
   "source": [
    "def get_data(symbol):\n",
    "    q = deque(maxlen=3)\n",
    "    url = \"https://www.alphavantage.co/query?function=TIME_SERIES_DAILY&outputsize=full&symbol=\"+symbol+\"&apikey=TOGGSCK5JLEEJTGL\"\n",
    "    url_rsi = \"https://www.alphavantage.co/query?function=RSI&symbol=\"+symbol+\"&interval=daily&time_period=50&series_type=close&apikey=TOGGSCK5JLEEJTGL\"\n",
    "    url_sma = \"https://www.alphavantage.co/query?function=SMA&symbol=\"+symbol+\"&interval=daily&time_period=50&series_type=close&apikey=TOGGSCK5JLEEJTGL\"\n",
    "    url_cci = \"https://www.alphavantage.co/query?function=CCI&symbol=\"+symbol+\"&interval=daily&time_period=50&series_type=close&apikey=TOGGSCK5JLEEJTGL\"\n",
    "    url_macd = \"https://www.alphavantage.co/query?function=MACD&symbol=\"+symbol+\"&interval=daily&series_type=open&apikey=TOGGSCK5JLEEJTGL\"\n",
    "    response_prices = requests.get(url)\n",
    "    response_rsi = requests.get(url_rsi)\n",
    "    response_sma = requests.get(url_sma)\n",
    "    response_cci = requests.get(url_cci)\n",
    "    response_macd = requests.get(url_macd)\n",
    "    \n",
    "    data = response_prices.json()\n",
    "    data_rsi = response_rsi.json()\n",
    "    data_sma = response_sma.json()\n",
    "    data_cci = response_cci.json()\n",
    "    data_macd =  response_macd.json()\n",
    "    \n",
    "    \n",
    "    data = data[\"Time Series (Daily)\"]\n",
    "#     print(data_rsi)\n",
    "    data_rsi = data_rsi[\"Technical Analysis: RSI\"]\n",
    "    data_sma = data_sma[\"Technical Analysis: SMA\"]\n",
    "    data_cci = data_cci[\"Technical Analysis: CCI\"]\n",
    "    data_macd = data_macd[\"Technical Analysis: MACD\"]\n",
    "    \n",
    "    ds = {}\n",
    "    ds[\"date\"] = []\n",
    "    ds[\"close\"] = []\n",
    "    ds[\"trend\"] = []\n",
    "#     ds[\"open\"] = []\n",
    "#     ds[\"volume\"] = []\n",
    "#     ds[\"high\"] = []\n",
    "#     ds[\"low\"] = []\n",
    "    ds[\"rsi\"] = []\n",
    "    ds[\"sma\"] = []\n",
    "    ds[\"cci\"] = []\n",
    "    ds[\"macd\"] = []\n",
    "    \n",
    "#     i = 0\n",
    "    q.append(1)\n",
    "    for time_point in data:\n",
    "        try:\n",
    "            ds[\"date\"] += [time_point]\n",
    "            ds[\"close\"] += [float(data[time_point][\"4. close\"])]\n",
    "            ds[\"trend\"] += [(float(data[time_point][\"4. close\"])-(sum(list(q))/len(list(q))))/(sum(list(q))/len(list(q)))]\n",
    "            last_close = float(data[time_point][\"4. close\"])\n",
    "            if last_close <= 0:\n",
    "                q.append(1)\n",
    "            else:\n",
    "                q.append(last_close)\n",
    "#             ds[\"open\"] += [float(data[time_point][\"1. open\"])]\n",
    "#             ds[\"volume\"] += [float(data[time_point][\"5. volume\"])]\n",
    "#             ds[\"high\"] += [float(data[time_point][\"2. high\"])]\n",
    "#             ds[\"low\"] += [float(data[time_point][ \"3. low\"])]\n",
    "        except KeyError as e:\n",
    "            continue\n",
    "        try:\n",
    "            ds[\"macd\"] += [float(data_macd[time_point][\"MACD\"])]\n",
    "        except KeyError as e:\n",
    "            ds[\"macd\"] += [sum(ds[\"macd\"])/len(ds[\"macd\"])]\n",
    "        try:\n",
    "            ds[\"rsi\"] += [float(data_rsi[time_point][\"RSI\"])]\n",
    "        except KeyError as e:\n",
    "            ds[\"rsi\"] += [sum(ds[\"rsi\"])/len(ds[\"rsi\"])]\n",
    "        try:\n",
    "            ds[\"sma\"] += [float(data_sma[time_point][\"SMA\"])]\n",
    "        except KeyError as e:\n",
    "            ds[\"sma\"] += [sum(ds[\"sma\"])/len(ds[\"sma\"])]\n",
    "        try:\n",
    "            ds[\"cci\"] += [float(data_cci[time_point][\"CCI\"])]\n",
    "        except KeyError as e:\n",
    "            ds[\"cci\"] += [sum(ds[\"cci\"])/len(ds[\"cci\"])]\n",
    "    \n",
    "    df=pd.DataFrame(ds)\n",
    "    df = df.sort_values(by='date')\n",
    "    df = df.reset_index(drop=True)\n",
    "    return df\n",
    "        \n"
   ]
  },
  {
   "cell_type": "code",
   "execution_count": null,
   "metadata": {
    "collapsed": true
   },
   "outputs": [],
   "source": []
  },
  {
   "cell_type": "code",
   "execution_count": 5,
   "metadata": {
    "collapsed": true
   },
   "outputs": [],
   "source": [
    "def remember(s,a,r,sp):\n",
    "    memory.append((s,a,r,sp))"
   ]
  },
  {
   "cell_type": "code",
   "execution_count": 6,
   "metadata": {
    "collapsed": true
   },
   "outputs": [],
   "source": [
    "def update(memory):\n",
    "#     Take random sample from memory\n",
    "    batch = random.sample(memory, batch_size) \n",
    "#     Train network on batch\n",
    "    for s, a, r, sp in batch:\n",
    "#       if state is final there is no future rewards\n",
    "        target = r\n",
    "#       discounted future rewards\n",
    "    \n",
    "        target = r + gamma * \\\n",
    "           np.amax(model.predict(sp)[0])\n",
    "                \n",
    "#       Get pred then replace action with our target\n",
    "        target_f = model.predict(s)\n",
    "        target_f[0][a] = target\n",
    "        model.fit(s, target_f, epochs=1, verbose=0)"
   ]
  },
  {
   "cell_type": "code",
   "execution_count": 7,
   "metadata": {
    "collapsed": true
   },
   "outputs": [],
   "source": [
    "def get_act(obs):\n",
    "    \n",
    "#     if np.random.rand() <= epsilon:\n",
    "# #         print \"random\"\n",
    "# #         # The agent acts randomly\n",
    "# #         epsilon = epsilon*epsilon_decay\n",
    "#         act = int(random.uniform(0, 2))\n",
    "#         return act\n",
    "#     print \"optimal\"\n",
    "    # Predict the reward value based on the given state\n",
    "    act_values = model.predict(obs)\n",
    "\n",
    "    # Pick the action based on the predicted reward\n",
    "    return np.argmax(act_values[0])"
   ]
  },
  {
   "cell_type": "code",
   "execution_count": 8,
   "metadata": {},
   "outputs": [
    {
     "data": {
      "text/plain": [
       "0"
      ]
     },
     "execution_count": 8,
     "metadata": {},
     "output_type": "execute_result"
    }
   ],
   "source": [
    "int(random.uniform(0, 2))"
   ]
  },
  {
   "cell_type": "code",
   "execution_count": 9,
   "metadata": {
    "collapsed": true
   },
   "outputs": [],
   "source": [
    "\n",
    "def act(act,day):\n",
    "    current_val = account.calc_value(day[1][\"close\"])\n",
    "    i = day[0]\n",
    "    future = df.close.iloc[i+1:i+3].mean()\n",
    "    if act == 1:\n",
    "        buy[\"buy\"] += [day[1][\"close\"]]\n",
    "        buy[\"date\"] += [df_d.date.iloc[day[0]]]\n",
    "        if (account.cash - (day[1][\"close\"]*5)) >= 0:\n",
    "            account.amount_held =  account.amount_held + 5\n",
    "            account.cash = account.cash - (5*day[1][\"close\"])\n",
    "        if ((future - day[1][\"close\"])/day[1][\"close\"]) >= 0:\n",
    "            return 1\n",
    "        else:\n",
    "            return -1\n",
    "#             if (account.calc_value(future) - current_val) > 0:\n",
    "#                 return 1\n",
    "#             else:\n",
    "#                 return -1\n",
    "    #         Buy some shares reward is if we make money in a week\n",
    "    else:\n",
    "        \n",
    "        sell[\"sell\"] += [day[1][\"close\"]]\n",
    "        sell[\"date\"] += [df_d.date.iloc[day[0]]]\n",
    "        to_sell =int((random.random()*account.amount_held))\n",
    "        if account.amount_held > 0:\n",
    "            account.cash = account.cash + (to_sell*day[1][\"close\"])\n",
    "            account.amount_held = account.amount_held -to_sell\n",
    "        if -((future - day[1][\"close\"])/day[1][\"close\"]) > 0:\n",
    "#             print \"Sell\" , (future - day[1][\"close\"])/day[1][\"close\"]\n",
    "            return 1\n",
    "        else:\n",
    "            return -1\n",
    "#         if (account.calc_value(future) - current_val) < 0:\n",
    "#             return 1\n",
    "#         else:\n",
    "#             return -1\n",
    "    \n",
    "    return -0.05\n",
    "#         Sell some shares reward is if we avoid losing money in a week"
   ]
  },
  {
   "cell_type": "code",
   "execution_count": 10,
   "metadata": {
    "collapsed": true
   },
   "outputs": [],
   "source": [
    "\n",
    "#     print d[1][\"date\"]\n"
   ]
  },
  {
   "cell_type": "code",
   "execution_count": 11,
   "metadata": {
    "scrolled": true
   },
   "outputs": [
    {
     "data": {
      "text/plain": [
       "[0]"
      ]
     },
     "execution_count": 11,
     "metadata": {},
     "output_type": "execute_result"
    }
   ],
   "source": [
    "range(0,1)"
   ]
  },
  {
   "cell_type": "code",
   "execution_count": null,
   "metadata": {
    "scrolled": true
   },
   "outputs": [
    {
     "name": "stdout",
     "output_type": "stream",
     "text": [
      "NVDA\n",
      "LOADEd weights\n",
      "-1\n",
      "Buying\n",
      "day 100\n",
      "cash 89116.68\n",
      "shares held 396\n",
      "net worth 131290.68\n",
      "-1\n",
      "Buying\n",
      "day 200\n",
      "cash 92680.03\n",
      "shares held 767\n",
      "net worth 141484.24\n",
      "1\n",
      "Buying\n",
      "day 300\n",
      "cash 41687.13\n",
      "shares held 1767\n",
      "net worth 126944.88\n",
      "1\n",
      "Buying\n",
      "day 400\n",
      "cash 277.780000001\n",
      "shares held 2317\n",
      "net worth 203895.74\n",
      "1\n",
      "Buying\n",
      "day 500\n",
      "cash 33921.8\n",
      "shares held 596\n",
      "net worth 73794.2\n",
      "-1\n",
      "Buying\n",
      "day 600\n",
      "cash 30738.8\n",
      "shares held 136\n",
      "net worth 35502.88\n",
      "-1\n",
      "Selling\n",
      "day 700\n",
      "cash 34932.45\n",
      "shares held 1\n",
      "net worth 34941.1\n",
      "1\n",
      "Buying\n",
      "day 800\n",
      "cash 34253.73\n",
      "shares held 16\n",
      "net worth 34454.85\n",
      "1\n",
      "Selling\n",
      "day 900\n",
      "cash 36814.647\n",
      "shares held 1\n",
      "net worth 36835.107\n",
      "-1\n",
      "Selling\n",
      "day 1000\n",
      "cash 36724.315\n",
      "shares held 1\n",
      "net worth 36746.115\n",
      "-1\n",
      "Buying\n",
      "day 1100\n",
      "cash 35635.885\n",
      "shares held 36\n",
      "net worth 36408.445\n",
      "1\n",
      "Selling\n",
      "day 1200\n",
      "cash 36185.815\n",
      "shares held 1\n",
      "net worth 36200.135\n",
      "-1\n",
      "Buying\n",
      "day 1300\n",
      "cash 31981.455\n",
      "shares held 156\n",
      "net worth 36326.055\n",
      "1\n",
      "Selling\n",
      "day 1400\n",
      "cash 35833.385\n",
      "shares held 1\n",
      "net worth 35860.655\n",
      "-1\n",
      "Buying\n",
      "day 1500\n",
      "cash 24021.295\n",
      "shares held 346\n",
      "net worth 36560.335\n",
      "-1\n",
      "Buying\n",
      "day 1600\n",
      "cash 32913.964\n",
      "shares held 92\n",
      "net worth 35371.284\n",
      "1\n",
      "Buying\n",
      "day 1700\n",
      "cash 20828.224\n",
      "shares held 457\n",
      "net worth 34629.624\n",
      "-1\n",
      "Buying\n",
      "day 1800\n",
      "cash 35094.284\n",
      "shares held 86\n",
      "net worth 37654.504\n",
      "1\n",
      "Buying\n",
      "day 1900\n",
      "cash 210.821000001\n",
      "shares held 1076\n",
      "net worth 47705.461\n",
      "-1\n",
      "Buying\n",
      "day 2000\n",
      "cash 37139.1064\n",
      "shares held 8\n",
      "net worth 37419.6664\n",
      "-1\n",
      "Buying\n",
      "day 2100\n",
      "cash 34509.0164\n",
      "shares held 126\n",
      "net worth 37347.7964\n",
      "1\n",
      "Selling\n",
      "day 2200\n",
      "cash 36422.3364\n",
      "shares held 1\n",
      "net worth 36432.7464\n",
      "-1\n",
      "Selling\n",
      "day 2300\n",
      "cash 36286.5464\n",
      "shares held 1\n",
      "net worth 36294.5464\n",
      "-1\n",
      "Buying\n",
      "day 2400\n",
      "cash 31815.4764\n",
      "shares held 376\n",
      "net worth 36410.1964\n",
      "-1\n",
      "Buying\n",
      "day 2500\n",
      "cash 36480.1164\n",
      "shares held 56\n",
      "net worth 37358.7564\n",
      "1\n",
      "Selling\n",
      "day 2600\n",
      "cash 36237.4164\n",
      "shares held 3\n",
      "net worth 36280.9164\n",
      "-1\n",
      "Buying\n",
      "day 2700\n",
      "cash 34675.3304\n",
      "shares held 146\n",
      "net worth 36426.6004\n",
      "-1\n",
      "Buying\n",
      "day 2800\n",
      "cash 36542.3664\n",
      "shares held 76\n",
      "net worth 38494.0464\n",
      "-1\n",
      "Buying\n",
      "day 2900\n",
      "cash 34753.2164\n",
      "shares held 127\n",
      "net worth 36615.0364\n",
      "-1\n",
      "Buying\n",
      "day 3000\n",
      "cash 27528.5114\n",
      "shares held 616\n",
      "net worth 37212.0314\n",
      "-1\n",
      "Selling\n",
      "day 3100\n",
      "cash 36005.9164\n",
      "shares held 1\n",
      "net worth 36018.8964\n",
      "1\n",
      "Selling\n",
      "day 3200\n",
      "cash 36037.8114\n",
      "shares held 1\n",
      "net worth 36051.5214\n",
      "-1\n",
      "Buying\n",
      "day 3300\n",
      "cash 35830.7064\n",
      "shares held 16\n",
      "net worth 36034.3864\n",
      "1\n",
      "Buying\n",
      "day 3400\n",
      "cash 36087.9024\n",
      "shares held 26\n",
      "net worth 36463.0824\n",
      "-1\n",
      "Selling\n",
      "day 3500\n",
      "cash 36331.2804\n",
      "shares held 1\n",
      "net worth 36346.8804\n",
      "1\n",
      "Selling\n",
      "day 3600\n",
      "cash 36262.8954\n",
      "shares held 1\n",
      "net worth 36281.6254\n",
      "-1\n",
      "Selling\n",
      "day 3700\n",
      "cash 36050.9554\n",
      "shares held 1\n",
      "net worth 36070.1054\n",
      "-1\n",
      "Selling\n",
      "day 3800\n",
      "cash 36240.4804\n",
      "shares held 1\n",
      "net worth 36261.4304\n"
     ]
    }
   ],
   "source": [
    "# model = build_network(len(df.columns))\n",
    "# prv_obs = None\n",
    "feats = [\"trend\",\"rsi\",\"cci\",\"macd\"]\n",
    "buy = {}\n",
    "buy[\"buy\"] = []\n",
    "buy[\"date\"] = []\n",
    "sell = {}\n",
    "sell[\"sell\"] = []\n",
    "sell[\"date\"] = []\n",
    "worth = {}\n",
    "worth[\"worth\"]=[]\n",
    "gl = []\n",
    "epochs = 5\n",
    "df_d = None\n",
    "codes = [\"TSLA\",\"MSFT\",\"ASX:ANZ\",\"NVDA\"]\n",
    "for epoch in range(0,epochs):\n",
    "    epsilon = epsilon*((epochs-epoch)/epochs)\n",
    "    buy = {}\n",
    "    buy[\"buy\"] = []\n",
    "    buy[\"date\"] = []\n",
    "    sell = {}\n",
    "    sell[\"sell\"] = []\n",
    "    sell[\"date\"] = []\n",
    "    worth = {}\n",
    "    worth[\"worth\"]=[]\n",
    "    gl = []\n",
    "    i = 0\n",
    "    memory = deque(maxlen=2000)\n",
    "    account = Account()\n",
    "    lets_trade = random.choice(codes)\n",
    "#     lets_trade = \"TSLA\"\n",
    "    print lets_trade\n",
    "    df = get_data(lets_trade)\n",
    "    df_d = df[[\"date\",\"close\"]]\n",
    "    del df[\"date\"]\n",
    "    model = build_network(len(df[feats].columns))\n",
    "    prv_obs = None\n",
    "\n",
    "    for day in df.iterrows():\n",
    "        i = 1 + i\n",
    "    #     print i\n",
    "        if i == len(df) - 11:\n",
    "            model.save_weights(\"rltrader.h5\")\n",
    "            print(\"Episode finished after {} timesteps\".format(i+1))\n",
    "            break\n",
    "        obs = day[1]\n",
    "        obs_values = np.reshape(obs[feats].values,[1,len(df[feats].columns)])\n",
    "        action = get_act(obs_values )\n",
    "        reward = act(action,day)\n",
    "        if action == 1:\n",
    "            action_hist += [\"buy\"] \n",
    "        else:\n",
    "            action_hist += [\"sell\"]\n",
    "        if i % 100 == 0:\n",
    "            print reward\n",
    "            if action == 1:\n",
    "                print \"Buying\" \n",
    "            else:\n",
    "                print \"Selling\"\n",
    "            print \"day\" , i\n",
    "            print \"cash\",account.cash\n",
    "            print \"shares held\",account.amount_held\n",
    "            print \"net worth\",account.calc_value(day[1][\"close\"]) + account.cash\n",
    "        worth[\"worth\"] += [account.calc_value(day[1][\"close\"]) + account.cash]\n",
    "    #     print(action)\n",
    "        reward = act(action,day)\n",
    "    #     print reward\n",
    "        gl += [(account.calc_value(day[1][\"close\"]) + account.cash) - 100000]\n",
    "        if prv_obs is not None and reward is not None:\n",
    "            remember(prv_obs,action,reward,obs_values)\n",
    "        prv_obs = obs_values  \n",
    "    #     if done:\n",
    "    #         model.save_weights(\"model.h5\")\n",
    "    #         print(\"Episode finished after {} timesteps\".format(t+1))\n",
    "    #         break\n",
    "        if len(memory) >= batch_size:\n",
    "            update(memory)\n",
    "    print ((sum(gl)/len(gl))/100000)*100"
   ]
  },
  {
   "cell_type": "code",
   "execution_count": null,
   "metadata": {},
   "outputs": [],
   "source": [
    "print ((sum(gl)/len(gl))/100000)*100\n",
    "# df_d\n",
    "print (133605.115/100000)*100\n",
    "# print action_hist"
   ]
  },
  {
   "cell_type": "code",
   "execution_count": null,
   "metadata": {
    "collapsed": true
   },
   "outputs": [],
   "source": [
    "df_buys = pd.DataFrame(buy)\n",
    "df_sells = pd.DataFrame(sell)\n",
    "df_worth = pd.DataFrame(worth)"
   ]
  },
  {
   "cell_type": "code",
   "execution_count": null,
   "metadata": {},
   "outputs": [],
   "source": [
    "df_d.plot()\n",
    "df_worth.plot()\n"
   ]
  },
  {
   "cell_type": "code",
   "execution_count": null,
   "metadata": {},
   "outputs": [],
   "source": [
    "df_buys.plot(style=\".\")"
   ]
  },
  {
   "cell_type": "code",
   "execution_count": null,
   "metadata": {},
   "outputs": [],
   "source": [
    "# df_d.plot()\n",
    "df_sells.plot(style=\".\")"
   ]
  },
  {
   "cell_type": "code",
   "execution_count": null,
   "metadata": {
    "scrolled": true
   },
   "outputs": [],
   "source": [
    "df_d.date = pd.to_datetime(df_d.date,format='%Y-%m-%d')\n",
    "df_d = df_d.set_index(\"date\")\n",
    "df_buys.date = pd.to_datetime(df_buys.date,format='%Y-%m-%d')\n",
    "df_buys = df_buys.set_index(\"date\")\n",
    "df_sells.date = pd.to_datetime(df_sells.date,format='%Y-%m-%d')\n",
    "df_sells = df_sells.set_index(\"date\")\n",
    "ax = df_d.plot()\n",
    "\n",
    "ax = df_d.plot()\n",
    "ax = df_buys.plot(ax=ax)\n",
    "df_sells.plot(ax=ax)\n",
    "# # df_sells.groupby(df_sells[\"date\"])\n",
    "plt.show()"
   ]
  },
  {
   "cell_type": "code",
   "execution_count": null,
   "metadata": {},
   "outputs": [],
   "source": [
    "fig = plt.figure(figsize = (50,50))\n",
    "ax = fig.gca()\n",
    "df.rsi.plot(ax=ax)"
   ]
  },
  {
   "cell_type": "code",
   "execution_count": null,
   "metadata": {
    "scrolled": true
   },
   "outputs": [],
   "source": [
    "fig = plt.figure(figsize = (50,50))\n",
    "ax = fig.gca()\n",
    "ax = df_d.plot(ax=ax)\n",
    "ax = df_buys.plot(style=\".\",ax=ax)\n",
    "df_sells.plot(style=\".\",ax=ax)\n",
    "# # df_sells.groupby(df_sells[\"date\"])\n",
    "plt.show()"
   ]
  },
  {
   "cell_type": "code",
   "execution_count": null,
   "metadata": {},
   "outputs": [],
   "source": [
    "df_d"
   ]
  },
  {
   "cell_type": "code",
   "execution_count": null,
   "metadata": {
    "collapsed": true
   },
   "outputs": [],
   "source": [
    "\n"
   ]
  },
  {
   "cell_type": "code",
   "execution_count": null,
   "metadata": {
    "collapsed": true
   },
   "outputs": [],
   "source": []
  },
  {
   "cell_type": "code",
   "execution_count": null,
   "metadata": {},
   "outputs": [],
   "source": [
    "%%bash\n",
    "which python"
   ]
  }
 ],
 "metadata": {
  "kernelspec": {
   "display_name": "Python 2",
   "language": "python",
   "name": "python2"
  },
  "language_info": {
   "codemirror_mode": {
    "name": "ipython",
    "version": 2
   },
   "file_extension": ".py",
   "mimetype": "text/x-python",
   "name": "python",
   "nbconvert_exporter": "python",
   "pygments_lexer": "ipython2",
   "version": "2.7.13"
  }
 },
 "nbformat": 4,
 "nbformat_minor": 2
}
