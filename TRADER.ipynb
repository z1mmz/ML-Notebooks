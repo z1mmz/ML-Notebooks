{
 "cells": [
  {
   "cell_type": "code",
   "execution_count": 2,
   "metadata": {},
   "outputs": [
    {
     "name": "stderr",
     "output_type": "stream",
     "text": [
      "Using TensorFlow backend.\n"
     ]
    }
   ],
   "source": [
    "import numpy as np\n",
    "np.random.seed(1337)\n",
    "import pandas as pd\n",
    "from matplotlib import pyplot as plt\n",
    "%matplotlib inline\n",
    "\n",
    "\n",
    "from keras.models import Sequential\n",
    "from keras.layers import Dense\n",
    "from keras.optimizers import Adam\n",
    "from collections import deque\n",
    "import random\n",
    "import urllib, json\n",
    "import re\n",
    "from datetime import datetime\n",
    "import requests\n"
   ]
  },
  {
   "cell_type": "code",
   "execution_count": 3,
   "metadata": {
    "collapsed": true
   },
   "outputs": [],
   "source": [
    "memory = deque(maxlen=2000)\n",
    "gamma = 0.95  \n",
    "epsilon = 0.05  # exploration rate\n",
    "epsilon_min = 0.01\n",
    "epsilon_decay = 0.99\n",
    "learning_rate = 0.001\n",
    "batch_size = 5\n",
    "memory = []\n",
    "action_hist = []\n",
    "class Account:\n",
    "    cash = 100000\n",
    "    amount_held = 0\n",
    "    def calc_value(self,current_price):\n",
    "        return self.amount_held * current_price\n",
    "account = Account()"
   ]
  },
  {
   "cell_type": "code",
   "execution_count": 4,
   "metadata": {
    "collapsed": true
   },
   "outputs": [],
   "source": [
    "def build_network(input_sz):\n",
    "    model = Sequential()\n",
    "    model.add(Dense(125,input_dim=input_sz, activation='relu'))\n",
    "    model.add(Dense(50,activation='relu'))\n",
    "    model.add(Dense(2, activation='linear'))\n",
    "    try:\n",
    "        model.load_weights(\"rltrader.h5\")\n",
    "        print \"LOADEd weights\"\n",
    "    except:\n",
    "        pass\n",
    "    model.compile(loss='mse',optimizer=Adam(lr=learning_rate)) \n",
    "    return model"
   ]
  },
  {
   "cell_type": "code",
   "execution_count": null,
   "metadata": {
    "collapsed": true
   },
   "outputs": [],
   "source": []
  },
  {
   "cell_type": "code",
   "execution_count": 5,
   "metadata": {
    "collapsed": true
   },
   "outputs": [],
   "source": [
    "def get_data(symbol):\n",
    "    q = deque(maxlen=3)\n",
    "    url = \"https://www.alphavantage.co/query?function=TIME_SERIES_DAILY&outputsize=full&symbol=\"+symbol+\"&apikey=TOGGSCK5JLEEJTGL\"\n",
    "    url_rsi = \"https://www.alphavantage.co/query?function=RSI&symbol=\"+symbol+\"&interval=daily&time_period=10&series_type=close&apikey=TOGGSCK5JLEEJTGL\"\n",
    "    url_sma = \"https://www.alphavantage.co/query?function=SMA&symbol=\"+symbol+\"&interval=daily&time_period=10&series_type=close&apikey=TOGGSCK5JLEEJTGL\"\n",
    "    url_cci = \"https://www.alphavantage.co/query?function=CCI&symbol=\"+symbol+\"&interval=daily&time_period=10&series_type=close&apikey=TOGGSCK5JLEEJTGL\"\n",
    "    \n",
    "    response_prices = requests.get(url)\n",
    "    response_rsi = requests.get(url_rsi)\n",
    "    response_sma = requests.get(url_sma)\n",
    "    response_cci = requests.get(url_cci)\n",
    "    \n",
    "    data = response_prices.json()\n",
    "    data_rsi = response_rsi.json()\n",
    "    data_sma = response_sma.json()\n",
    "    data_cci = response_cci.json()\n",
    "    \n",
    "    \n",
    "    data = data[\"Time Series (Daily)\"]\n",
    "#     print(data_rsi)\n",
    "    data_rsi = data_rsi[\"Technical Analysis: RSI\"]\n",
    "    data_sma = data_sma[\"Technical Analysis: SMA\"]\n",
    "    data_cci = data_cci[\"Technical Analysis: CCI\"]\n",
    "    \n",
    "    ds = {}\n",
    "    ds[\"date\"] = []\n",
    "    ds[\"close\"] = []\n",
    "    ds[\"trend\"] = []\n",
    "#     ds[\"open\"] = []\n",
    "#     ds[\"volume\"] = []\n",
    "#     ds[\"high\"] = []\n",
    "#     ds[\"low\"] = []\n",
    "    ds[\"rsi\"] = []\n",
    "    ds[\"sma\"] = []\n",
    "    ds[\"cci\"] = []\n",
    "    \n",
    "#     i = 0\n",
    "    q.append(1)\n",
    "    for time_point in data:\n",
    "        try:\n",
    "            ds[\"date\"] += [time_point]\n",
    "            ds[\"close\"] += [float(data[time_point][\"4. close\"])]\n",
    "            ds[\"trend\"] += [(float(data[time_point][\"4. close\"])-(sum(list(q))/len(list(q))))/(sum(list(q))/len(list(q)))]\n",
    "            last_close = float(data[time_point][\"4. close\"])\n",
    "            if last_close <= 0:\n",
    "                q.append(1)\n",
    "            else:\n",
    "                q.append(last_close)\n",
    "#             ds[\"open\"] += [float(data[time_point][\"1. open\"])]\n",
    "#             ds[\"volume\"] += [float(data[time_point][\"5. volume\"])]\n",
    "#             ds[\"high\"] += [float(data[time_point][\"2. high\"])]\n",
    "#             ds[\"low\"] += [float(data[time_point][ \"3. low\"])]\n",
    "        except KeyError as e:\n",
    "            continue\n",
    "        try:\n",
    "            ds[\"rsi\"] += [float(data_rsi[time_point][\"RSI\"])]\n",
    "        except KeyError as e:\n",
    "            ds[\"rsi\"] += [sum(ds[\"rsi\"])/len(ds[\"rsi\"])]\n",
    "        try:\n",
    "            ds[\"sma\"] += [float(data_sma[time_point][\"SMA\"])]\n",
    "        except KeyError as e:\n",
    "            ds[\"sma\"] += [sum(ds[\"sma\"])/len(ds[\"sma\"])]\n",
    "        try:\n",
    "            ds[\"cci\"] += [float(data_cci[time_point][\"CCI\"])]\n",
    "        except KeyError as e:\n",
    "            ds[\"cci\"] += [sum(ds[\"cci\"])/len(ds[\"cci\"])]\n",
    "    \n",
    "    df=pd.DataFrame(ds)\n",
    "    df = df.sort_values(by='date')\n",
    "    df = df.reset_index(drop=True)\n",
    "    return df\n",
    "        \n"
   ]
  },
  {
   "cell_type": "code",
   "execution_count": null,
   "metadata": {
    "collapsed": true
   },
   "outputs": [],
   "source": []
  },
  {
   "cell_type": "code",
   "execution_count": 6,
   "metadata": {
    "collapsed": true
   },
   "outputs": [],
   "source": [
    "def remember(s,a,r,sp):\n",
    "    memory.append((s,a,r,sp))"
   ]
  },
  {
   "cell_type": "code",
   "execution_count": 7,
   "metadata": {
    "collapsed": true
   },
   "outputs": [],
   "source": [
    "def update(memory):\n",
    "#     Take random sample from memory\n",
    "    batch = random.sample(memory, batch_size) \n",
    "#     Train network on batch\n",
    "    for s, a, r, sp in batch:\n",
    "#       if state is final there is no future rewards\n",
    "        target = r\n",
    "#       discounted future rewards\n",
    "    \n",
    "        target = r + gamma * \\\n",
    "           np.amax(model.predict(sp)[0])\n",
    "                \n",
    "#       Get pred then replace action with our target\n",
    "        target_f = model.predict(s)\n",
    "        target_f[0][a] = target\n",
    "        model.fit(s, target_f, epochs=1, verbose=0)"
   ]
  },
  {
   "cell_type": "code",
   "execution_count": 15,
   "metadata": {
    "collapsed": true
   },
   "outputs": [],
   "source": [
    "def get_act(obs):\n",
    "    if obs[1][\"rsi\"] < 30:\n",
    "        return 1\n",
    "    if obs[1][\"rsi\"] > 70:\n",
    "        return 0\n",
    "    else:\n",
    "        return 3\n",
    "  "
   ]
  },
  {
   "cell_type": "code",
   "execution_count": 9,
   "metadata": {},
   "outputs": [
    {
     "data": {
      "text/plain": [
       "0"
      ]
     },
     "execution_count": 9,
     "metadata": {},
     "output_type": "execute_result"
    }
   ],
   "source": [
    "int(random.uniform(0, 2))"
   ]
  },
  {
   "cell_type": "code",
   "execution_count": 20,
   "metadata": {
    "collapsed": true
   },
   "outputs": [],
   "source": [
    "\n",
    "def act(act,day):\n",
    "    if act == 3:\n",
    "        return 0\n",
    "    current_val = account.calc_value(day[1][\"close\"])\n",
    "    i = day[0]\n",
    "    future = df.close.iloc[i:i+3].mean()\n",
    "    if act == 1:\n",
    "        buy[\"buy\"] += [day[1][\"close\"]]\n",
    "        buy[\"date\"] += [df_d.date.iloc[day[0]]]\n",
    "        if (account.cash - (day[1][\"close\"]*20)) >= 0:\n",
    "            account.amount_held =  account.amount_held + 20\n",
    "            account.cash = account.cash - (20*day[1][\"close\"])\n",
    "        if ((future - day[1][\"close\"])/day[1][\"close\"]) > 0:\n",
    "            return 1\n",
    "        else:\n",
    "            return -1\n",
    "#             if (account.calc_value(future) - current_val) > 0:\n",
    "#                 return 1\n",
    "#             else:\n",
    "#                 return -1\n",
    "    #         Buy some shares reward is if we make money in a week\n",
    "    else:\n",
    "        \n",
    "        sell[\"sell\"] += [day[1][\"close\"]]\n",
    "        sell[\"date\"] += [df_d.date.iloc[day[0]]]\n",
    "        to_sell =int((random.random()*account.amount_held))\n",
    "        if account.amount_held > 0:\n",
    "            account.cash = account.cash + (to_sell*day[1][\"close\"])\n",
    "            account.amount_held = account.amount_held -to_sell\n",
    "        if -((future - day[1][\"close\"])/day[1][\"close\"]) > 0:\n",
    "            return 1\n",
    "        else:\n",
    "            return -1\n",
    "#         if (account.calc_value(future) - current_val) < 0:\n",
    "#             return 1\n",
    "#         else:\n",
    "#             return -1\n",
    "    \n",
    "    return -0.05\n",
    "#         Sell some shares reward is if we avoid losing money in a week"
   ]
  },
  {
   "cell_type": "code",
   "execution_count": 11,
   "metadata": {
    "collapsed": true
   },
   "outputs": [],
   "source": [
    "\n",
    "#     print d[1][\"date\"]\n"
   ]
  },
  {
   "cell_type": "code",
   "execution_count": 12,
   "metadata": {
    "scrolled": true
   },
   "outputs": [
    {
     "data": {
      "text/plain": [
       "[0]"
      ]
     },
     "execution_count": 12,
     "metadata": {},
     "output_type": "execute_result"
    }
   ],
   "source": [
    "range(0,1)"
   ]
  },
  {
   "cell_type": "code",
   "execution_count": 21,
   "metadata": {
    "scrolled": true
   },
   "outputs": [
    {
     "name": "stdout",
     "output_type": "stream",
     "text": [
      "LOADEd weights\n",
      "Buying\n",
      "day 100\n",
      "cash 96647.97\n",
      "shares held 299\n",
      "net worth 128491.47\n",
      "Buying\n",
      "day 200\n",
      "cash 135054.82\n",
      "shares held 296\n",
      "net worth 153889.3\n",
      "Buying\n",
      "day 300\n",
      "cash 104493.72\n",
      "shares held 1093\n",
      "net worth 157230.97\n",
      "Buying\n",
      "day 400\n",
      "cash 30453.19\n",
      "shares held 2031\n",
      "net worth 208937.47\n",
      "Buying\n",
      "day 500\n",
      "cash 121179.21\n",
      "shares held 172\n",
      "net worth 132686.01\n",
      "Buying\n",
      "day 600\n",
      "cash 20451.61\n",
      "shares held 2172\n",
      "net worth 96536.77\n",
      "Buying\n",
      "day 700\n",
      "cash 27.2099999999\n",
      "shares held 3012\n",
      "net worth 26081.01\n",
      "Buying\n",
      "day 800\n",
      "cash 42336.21\n",
      "shares held 204\n",
      "net worth 44900.49\n",
      "Buying\n",
      "day 900\n",
      "cash 28934.91\n",
      "shares held 781\n",
      "net worth 44914.17\n",
      "Buying\n",
      "day 1000\n",
      "cash 38916.05\n",
      "shares held 541\n",
      "net worth 50709.85\n",
      "Buying\n",
      "day 1100\n",
      "cash 38945.985\n",
      "shares held 635\n",
      "net worth 52573.085\n",
      "Buying\n",
      "day 1200\n",
      "cash 20231.051\n",
      "shares held 2063\n",
      "net worth 49773.211\n",
      "Buying\n",
      "day 1300\n",
      "cash 57934.041\n",
      "shares held 68\n",
      "net worth 59827.841\n",
      "Buying\n",
      "day 1400\n",
      "cash 41869.991\n",
      "shares held 721\n",
      "net worth 61531.661\n",
      "Buying\n",
      "day 1500\n",
      "cash 56183.451\n",
      "shares held 323\n",
      "net worth 67888.971\n",
      "Buying\n",
      "day 1600\n",
      "cash 57819.189\n",
      "shares held 501\n",
      "net worth 71200.899\n",
      "Buying\n",
      "day 1700\n",
      "cash 67643.169\n",
      "shares held 331\n",
      "net worth 77639.369\n",
      "Buying\n",
      "day 1800\n",
      "cash 5.37899999994\n",
      "shares held 2311\n",
      "net worth 68803.849\n",
      "Buying\n",
      "day 1900\n",
      "cash 73803.2394\n",
      "shares held 101\n",
      "net worth 78261.3794\n",
      "Buying\n",
      "day 2000\n",
      "cash 13146.0834\n",
      "shares held 1787\n",
      "net worth 75816.1734\n",
      "Buying\n",
      "day 2100\n",
      "cash 42789.7634\n",
      "shares held 298\n",
      "net worth 49503.7034\n",
      "Buying\n",
      "day 2200\n",
      "cash 25573.7634\n",
      "shares held 1443\n",
      "net worth 40595.3934\n",
      "Buying\n",
      "day 2300\n",
      "cash 28633.1034\n",
      "shares held 1529\n",
      "net worth 40865.1034\n",
      "Selling\n",
      "day 2400\n",
      "cash 45826.8834\n",
      "shares held 190\n",
      "net worth 48148.6834\n",
      "Selling\n",
      "day 2500\n",
      "cash 46416.1294\n",
      "shares held 241\n",
      "net worth 50197.4194\n",
      "Buying\n",
      "day 2600\n",
      "cash 23111.6894\n",
      "shares held 1621\n",
      "net worth 46616.1894\n",
      "Selling\n",
      "day 2700\n",
      "cash 42292.9414\n",
      "shares held 4\n",
      "net worth 42340.9214\n",
      "Buying\n",
      "day 2800\n",
      "cash 39460.7069\n",
      "shares held 161\n",
      "net worth 43595.1869\n",
      "Buying\n",
      "day 2900\n",
      "cash 26984.3669\n",
      "shares held 951\n",
      "net worth 40926.0269\n",
      "Buying\n",
      "day 3000\n",
      "cash 16348.4519\n",
      "shares held 1819\n",
      "net worth 44943.1319\n",
      "Buying\n",
      "day 3100\n",
      "cash 31654.9319\n",
      "shares held 990\n",
      "net worth 44505.1319\n",
      "Buying\n",
      "day 3200\n",
      "cash 40501.3579\n",
      "shares held 505\n",
      "net worth 47424.9079\n",
      "Buying\n",
      "day 3300\n",
      "cash 17052.7659\n",
      "shares held 2393\n",
      "net worth 47515.6559\n",
      "Buying\n",
      "day 3400\n",
      "cash 41032.6459\n",
      "shares held 661\n",
      "net worth 50570.8759\n",
      "Buying\n",
      "day 3500\n",
      "cash 45875.9589\n",
      "shares held 418\n",
      "net worth 52396.7589\n",
      "Buying\n",
      "day 3600\n",
      "cash 41178.2089\n",
      "shares held 712\n",
      "net worth 54513.9689\n",
      "Buying\n",
      "day 3700\n",
      "cash 45726.8789\n",
      "shares held 568\n",
      "net worth 56604.0789\n",
      "Buying\n",
      "day 3800\n",
      "cash 39671.4439\n",
      "shares held 921\n",
      "net worth 58966.3939\n",
      "Buying\n",
      "day 3900\n",
      "cash 17172.3839\n",
      "shares held 1969\n",
      "net worth 56887.1139\n",
      "Buying\n",
      "day 4000\n",
      "cash 60218.2639\n",
      "shares held 221\n",
      "net worth 67106.8339\n",
      "Buying\n",
      "day 4100\n",
      "cash 68987.9239\n",
      "shares held 22\n",
      "net worth 69789.8239\n",
      "Buying\n",
      "day 4200\n",
      "cash 57803.9539\n",
      "shares held 245\n",
      "net worth 72687.7039\n",
      "Buying\n",
      "day 4300\n",
      "cash 71426.4039\n",
      "shares held 134\n",
      "net worth 86753.3239\n",
      "Buying\n",
      "day 4400\n",
      "cash 92644.6839\n",
      "shares held 67\n",
      "net worth 102811.9339\n",
      "Episode finished after 4444 timesteps\n",
      "-32.4044870047\n"
     ]
    }
   ],
   "source": [
    "# model = build_network(len(df.columns))\n",
    "# prv_obs = None\n",
    "feats = [\"trend\",\"rsi\",\"sma\",\"cci\"]\n",
    "buy = {}\n",
    "buy[\"buy\"] = []\n",
    "buy[\"date\"] = []\n",
    "sell = {}\n",
    "sell[\"sell\"] = []\n",
    "sell[\"date\"] = []\n",
    "worth = {}\n",
    "worth[\"worth\"]=[]\n",
    "gl = []\n",
    "epochs = 1\n",
    "df_d = None\n",
    "codes = [\"ASX:RBL\",\"TSLA\",\"MSFT\",\"MU\",\"ASX:ANZ\",\"NVDA\"]\n",
    "for epoch in range(0,epochs):\n",
    "    buy = {}\n",
    "    buy[\"buy\"] = []\n",
    "    buy[\"date\"] = []\n",
    "    sell = {}\n",
    "    sell[\"sell\"] = []\n",
    "    sell[\"date\"] = []\n",
    "    worth = {}\n",
    "    worth[\"worth\"]=[]\n",
    "    gl = []\n",
    "    i = 0\n",
    "    memory = deque(maxlen=2000)\n",
    "    account = Account()\n",
    "    df = get_data(\"NVDA\")\n",
    "    df_d = df[[\"date\",\"close\"]]\n",
    "    del df[\"date\"]\n",
    "    model = build_network(len(df[feats].columns))\n",
    "    prv_obs = None\n",
    "\n",
    "    for day in df.iterrows():\n",
    "        i = 1 + i\n",
    "    #     print i\n",
    "        if i == len(df) - 11:\n",
    "            print(\"Episode finished after {} timesteps\".format(i+1))\n",
    "            break\n",
    "        obs = day[1]\n",
    "        obs_values = np.reshape(obs[feats].values,[1,len(df[feats].columns)])\n",
    "        action = get_act(day)\n",
    "        if action == 1:\n",
    "            action_hist += [\"buy\"] \n",
    "        else:\n",
    "            action_hist += [\"sell\"]\n",
    "        if i % 100 == 0:\n",
    "            if action == 1:\n",
    "                print \"Buying\" \n",
    "            else:\n",
    "                print \"Selling\"\n",
    "            print \"day\" , i\n",
    "            print \"cash\",account.cash\n",
    "            print \"shares held\",account.amount_held\n",
    "            print \"net worth\",account.calc_value(day[1][\"close\"]) + account.cash\n",
    "        worth[\"worth\"] += [account.calc_value(day[1][\"close\"]) + account.cash]\n",
    "    #     print(action)\n",
    "        reward = act(action,day)\n",
    "    #     print reward\n",
    "        gl += [(account.calc_value(day[1][\"close\"]) + account.cash) - 100000]\n",
    "#         if prv_obs is not None and reward is not None:\n",
    "#             remember(prv_obs,action,reward,obs_values)\n",
    "        prv_obs = obs_values  \n",
    "    #     if done:\n",
    "    #         model.save_weights(\"model.h5\")\n",
    "    #         print(\"Episode finished after {} timesteps\".format(t+1))\n",
    "    #         break\n",
    "        if len(memory) >= batch_size:\n",
    "            update(memory)\n",
    "    print ((sum(gl)/len(gl))/100000)*100"
   ]
  },
  {
   "cell_type": "code",
   "execution_count": 22,
   "metadata": {},
   "outputs": [
    {
     "name": "stdout",
     "output_type": "stream",
     "text": [
      "-32.4044870047\n",
      "133.605115\n"
     ]
    }
   ],
   "source": [
    "print ((sum(gl)/len(gl))/100000)*100\n",
    "# df_d\n",
    "print (133605.115/100000)*100\n",
    "# print action_hist"
   ]
  },
  {
   "cell_type": "code",
   "execution_count": 23,
   "metadata": {
    "collapsed": true
   },
   "outputs": [],
   "source": [
    "df_buys = pd.DataFrame(buy)\n",
    "df_sells = pd.DataFrame(sell)\n",
    "df_worth = pd.DataFrame(worth)"
   ]
  },
  {
   "cell_type": "code",
   "execution_count": 24,
   "metadata": {},
   "outputs": [
    {
     "data": {
      "text/plain": [
       "<matplotlib.axes._subplots.AxesSubplot at 0x7f942ba9af50>"
      ]
     },
     "execution_count": 24,
     "metadata": {},
     "output_type": "execute_result"
    },
    {
     "data": {
      "image/png": "[encoded data removed]",
      "text/plain": [
       "<matplotlib.figure.Figure at 0x7f942b5ff710>"
      ]
     },
     "metadata": {},
     "output_type": "display_data"
    },
    {
     "data": {
      "image/png": "[encoded data removed]",
      "text/plain": [
       "<matplotlib.figure.Figure at 0x7f942b5eccd0>"
      ]
     },
     "metadata": {},
     "output_type": "display_data"
    }
   ],
   "source": [
    "df_d.plot()\n",
    "df_worth.plot()\n"
   ]
  },
  {
   "cell_type": "code",
   "execution_count": null,
   "metadata": {},
   "outputs": [],
   "source": [
    "df_buys.plot(style=\".\")"
   ]
  },
  {
   "cell_type": "code",
   "execution_count": null,
   "metadata": {},
   "outputs": [],
   "source": [
    "# df_d.plot()\n",
    "df_sells.plot(style=\".\")"
   ]
  },
  {
   "cell_type": "code",
   "execution_count": null,
   "metadata": {
    "scrolled": true
   },
   "outputs": [],
   "source": [
    "df_d.date = pd.to_datetime(df_d.date,format='%Y-%m-%d')\n",
    "df_d = df_d.set_index(\"date\")\n",
    "df_buys.date = pd.to_datetime(df_buys.date,format='%Y-%m-%d')\n",
    "df_buys = df_buys.set_index(\"date\")\n",
    "df_sells.date = pd.to_datetime(df_sells.date,format='%Y-%m-%d')\n",
    "df_sells = df_sells.set_index(\"date\")\n",
    "ax = df_d.plot()\n",
    "\n",
    "ax = df_d.plot()\n",
    "ax = df_buys.plot(ax=ax)\n",
    "df_sells.plot(ax=ax)\n",
    "# # df_sells.groupby(df_sells[\"date\"])\n",
    "plt.show()"
   ]
  },
  {
   "cell_type": "code",
   "execution_count": null,
   "metadata": {},
   "outputs": [],
   "source": [
    "fig = plt.figure(figsize = (50,50))\n",
    "ax = fig.gca()\n",
    "df.rsi.plot(ax=ax)"
   ]
  },
  {
   "cell_type": "code",
   "execution_count": null,
   "metadata": {
    "scrolled": true
   },
   "outputs": [],
   "source": [
    "fig = plt.figure(figsize = (50,50))\n",
    "ax = fig.gca()\n",
    "ax = df_d.plot(ax=ax)\n",
    "ax = df_buys.plot(style=\".\",ax=ax)\n",
    "df_sells.plot(style=\".\",ax=ax)\n",
    "# # df_sells.groupby(df_sells[\"date\"])\n",
    "plt.show()"
   ]
  },
  {
   "cell_type": "code",
   "execution_count": null,
   "metadata": {},
   "outputs": [],
   "source": [
    "df_d"
   ]
  },
  {
   "cell_type": "code",
   "execution_count": null,
   "metadata": {
    "collapsed": true
   },
   "outputs": [],
   "source": [
    "\n"
   ]
  },
  {
   "cell_type": "code",
   "execution_count": null,
   "metadata": {
    "collapsed": true
   },
   "outputs": [],
   "source": []
  },
  {
   "cell_type": "code",
   "execution_count": null,
   "metadata": {},
   "outputs": [],
   "source": [
    "%%bash\n",
    "which python"
   ]
  }
 ],
 "metadata": {
  "kernelspec": {
   "display_name": "Python 2",
   "language": "python",
   "name": "python2"
  },
  "language_info": {
   "codemirror_mode": {
    "name": "ipython",
    "version": 2
   },
   "file_extension": ".py",
   "mimetype": "text/x-python",
   "name": "python",
   "nbconvert_exporter": "python",
   "pygments_lexer": "ipython2",
   "version": "2.7.13"
  }
 },
 "nbformat": 4,
 "nbformat_minor": 2
}
